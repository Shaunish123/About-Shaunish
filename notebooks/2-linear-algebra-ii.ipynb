{
  "nbformat": 4,
  "nbformat_minor": 0,
  "metadata": {
    "colab": {
      "name": "2-linear-algebra-ii.ipynb",
      "provenance": [],
      "include_colab_link": true
    },
    "kernelspec": {
      "display_name": "Python 3",
      "language": "python",
      "name": "python3"
    },
    "language_info": {
      "codemirror_mode": {
        "name": "ipython",
        "version": 3
      },
      "file_extension": ".py",
      "mimetype": "text/x-python",
      "name": "python",
      "nbconvert_exporter": "python",
      "pygments_lexer": "ipython3",
      "version": "3.7.6"
    }
  },
  "cells": [
    {
      "cell_type": "markdown",
      "metadata": {
        "id": "view-in-github",
        "colab_type": "text"
      },
      "source": [
        "<a href=\"https://colab.research.google.com/github/Shaunish123/About-Shaunish/blob/main/notebooks/2-linear-algebra-ii.ipynb\" target=\"_parent\"><img src=\"https://colab.research.google.com/assets/colab-badge.svg\" alt=\"Open In Colab\"/></a>"
      ]
    },
    {
      "cell_type": "markdown",
      "metadata": {
        "id": "aTOLgsbN69-P"
      },
      "source": [
        "# Linear Algebra II: Matrix Operations"
      ]
    },
    {
      "cell_type": "markdown",
      "metadata": {
        "id": "yqUB9FTRAxd-"
      },
      "source": [
        "This topic, *Linear Algebra II: Matrix Operations*, builds on the basics of linear algebra. It is essential because these intermediate-level manipulations of tensors lie at the heart of most machine learning approaches and are especially predominant in deep learning.\n",
        "\n",
        "Through the measured exposition of theory paired with interactive examples, you’ll develop an understanding of how linear algebra is used to solve for unknown values in high-dimensional spaces as well as to reduce the dimensionality of complex spaces. The content covered in this topic is itself foundational for several other topics in the *Machine Learning Foundations* series, especially *Probability & Information Theory* and *Optimization*."
      ]
    },
    {
      "cell_type": "markdown",
      "metadata": {
        "id": "d4tBvI88BheF"
      },
      "source": [
        "Over the course of studying this topic, you'll:\n",
        "\n",
        "* Develop a geometric intuition of what’s going on beneath the hood of machine learning algorithms, including those used for deep learning.\n",
        "* Be able to more intimately grasp the details of machine learning papers as well as all of the other subjects that underlie ML, including calculus, statistics, and optimization algorithms.\n",
        "* Reduce the dimensionalty of complex spaces down to their most informative elements with techniques such as eigendecomposition, singular value decomposition, and principal component analysis."
      ]
    },
    {
      "cell_type": "markdown",
      "metadata": {
        "id": "Z68nQ0ekCYhF"
      },
      "source": [
        "**Note that this Jupyter notebook is not intended to stand alone. It is the companion code to a lecture or to videos from Jon Krohn's [Machine Learning Foundations](https://github.com/jonkrohn/ML-foundations) series, which offer detail on the following:**\n",
        "\n",
        "*Review of Introductory Linear Algebra*\n",
        "\n",
        "* Modern Linear Algebra Applications\n",
        "* Tensors, Vectors, and Norms\n",
        "* Matrix Multiplication\n",
        "* Matrix Inversion\n",
        "* Identity, Diagonal and Orthogonal Matrices\n",
        "\n",
        "*Segment 2: Eigendecomposition*\n",
        "\n",
        "* Affine Transformation via Matrix Application\n",
        "* Eigenvectors and Eigenvalues\n",
        "* Matrix Determinants\n",
        "* Matrix Decomposition\n",
        "* Applications of Eigendecomposition\n",
        "\n",
        "*Segment 3: Matrix Operations for Machine Learning*\n",
        "\n",
        "* Singular Value Decomposition (SVD)\n",
        "* The Moore-Penrose Pseudoinverse\n",
        "* The Trace Operator\n",
        "* Principal Component Analysis (PCA): A Simple Machine Learning Algorithm\n",
        "* Resources for Further Study of Linear Algebra"
      ]
    },
    {
      "cell_type": "markdown",
      "metadata": {
        "id": "ty8zFJj9j3Ui"
      },
      "source": [
        "## Segment 1: Review of Introductory Linear Algebra"
      ]
    },
    {
      "cell_type": "code",
      "metadata": {
        "id": "ixvqsCeFj3Uj"
      },
      "source": [
        "import numpy as np\n",
        "import torch"
      ],
      "execution_count": 1,
      "outputs": []
    },
    {
      "cell_type": "markdown",
      "metadata": {
        "id": "E0LgmflFj3Um"
      },
      "source": [
        "### Vector Transposition"
      ]
    },
    {
      "cell_type": "code",
      "metadata": {
        "colab": {
          "base_uri": "https://localhost:8080/"
        },
        "id": "6enkxzMmLWtm",
        "outputId": "ef5fb428-49d1-4d6d-c45d-24653a79105c"
      },
      "source": [
        "x = np.array([25, 2, 5])\n",
        "x"
      ],
      "execution_count": 2,
      "outputs": [
        {
          "output_type": "execute_result",
          "data": {
            "text/plain": [
              "array([25,  2,  5])"
            ]
          },
          "metadata": {},
          "execution_count": 2
        }
      ]
    },
    {
      "cell_type": "code",
      "metadata": {
        "colab": {
          "base_uri": "https://localhost:8080/"
        },
        "id": "apVGqjNCLWtp",
        "outputId": "92f19f1d-a383-45bb-87c8-95b62d80d527"
      },
      "source": [
        "x.shape"
      ],
      "execution_count": 3,
      "outputs": [
        {
          "output_type": "execute_result",
          "data": {
            "text/plain": [
              "(3,)"
            ]
          },
          "metadata": {},
          "execution_count": 3
        }
      ]
    },
    {
      "cell_type": "code",
      "metadata": {
        "colab": {
          "base_uri": "https://localhost:8080/"
        },
        "id": "hvLQEylJj3Un",
        "outputId": "4b04e7b8-c52f-41dc-c927-190c85e0a0fb"
      },
      "source": [
        "x = np.array([[25, 2, 5]])\n",
        "x"
      ],
      "execution_count": 4,
      "outputs": [
        {
          "output_type": "execute_result",
          "data": {
            "text/plain": [
              "array([[25,  2,  5]])"
            ]
          },
          "metadata": {},
          "execution_count": 4
        }
      ]
    },
    {
      "cell_type": "code",
      "metadata": {
        "colab": {
          "base_uri": "https://localhost:8080/"
        },
        "id": "WE7xFVxiLWtu",
        "outputId": "e5a56d4c-bca3-4100-8e9f-3040a463af34"
      },
      "source": [
        "x.shape"
      ],
      "execution_count": 5,
      "outputs": [
        {
          "output_type": "execute_result",
          "data": {
            "text/plain": [
              "(1, 3)"
            ]
          },
          "metadata": {},
          "execution_count": 5
        }
      ]
    },
    {
      "cell_type": "code",
      "metadata": {
        "colab": {
          "base_uri": "https://localhost:8080/"
        },
        "id": "D6XtfKZ8j3Ut",
        "outputId": "94a480f2-8bcb-401f-b3f3-08aea095958a"
      },
      "source": [
        "x.T"
      ],
      "execution_count": 6,
      "outputs": [
        {
          "output_type": "execute_result",
          "data": {
            "text/plain": [
              "array([[25],\n",
              "       [ 2],\n",
              "       [ 5]])"
            ]
          },
          "metadata": {},
          "execution_count": 6
        }
      ]
    },
    {
      "cell_type": "code",
      "metadata": {
        "colab": {
          "base_uri": "https://localhost:8080/"
        },
        "id": "IN1_aSVQj3Uw",
        "outputId": "e52e0d17-cc95-4d41-eeaa-c20ee015f1ea"
      },
      "source": [
        "x.T.shape"
      ],
      "execution_count": 7,
      "outputs": [
        {
          "output_type": "execute_result",
          "data": {
            "text/plain": [
              "(3, 1)"
            ]
          },
          "metadata": {},
          "execution_count": 7
        }
      ]
    },
    {
      "cell_type": "code",
      "metadata": {
        "colab": {
          "base_uri": "https://localhost:8080/"
        },
        "id": "K-_nrgesj3U4",
        "outputId": "05746d81-7b0b-462e-f44e-b69b9e2bbd66"
      },
      "source": [
        "x_p = torch.tensor([25, 2, 5])\n",
        "x_p"
      ],
      "execution_count": 8,
      "outputs": [
        {
          "output_type": "execute_result",
          "data": {
            "text/plain": [
              "tensor([25,  2,  5])"
            ]
          },
          "metadata": {},
          "execution_count": 8
        }
      ]
    },
    {
      "cell_type": "code",
      "metadata": {
        "colab": {
          "base_uri": "https://localhost:8080/"
        },
        "id": "X0YuG9Pmj3U6",
        "outputId": "c6edb74a-8e09-4b5c-b6f5-857b2df0e036"
      },
      "source": [
        "x_p.T"
      ],
      "execution_count": 9,
      "outputs": [
        {
          "output_type": "stream",
          "name": "stderr",
          "text": [
            "<ipython-input-9-2382155321>:1: UserWarning: The use of `x.T` on tensors of dimension other than 2 to reverse their shape is deprecated and it will throw an error in a future release. Consider `x.mT` to transpose batches of matrices or `x.permute(*torch.arange(x.ndim - 1, -1, -1))` to reverse the dimensions of a tensor. (Triggered internally at /pytorch/aten/src/ATen/native/TensorShape.cpp:3725.)\n",
            "  x_p.T\n"
          ]
        },
        {
          "output_type": "execute_result",
          "data": {
            "text/plain": [
              "tensor([25,  2,  5])"
            ]
          },
          "metadata": {},
          "execution_count": 9
        }
      ]
    },
    {
      "cell_type": "code",
      "metadata": {
        "colab": {
          "base_uri": "https://localhost:8080/"
        },
        "id": "S_bRLc5wj3U8",
        "outputId": "87b09428-b304-41b1-a546-50e077a6cfa4"
      },
      "source": [
        "x_p.view(3, 1) # \"view\" because we're changing output but not the way x is stored in memory"
      ],
      "execution_count": 10,
      "outputs": [
        {
          "output_type": "execute_result",
          "data": {
            "text/plain": [
              "tensor([[25],\n",
              "        [ 2],\n",
              "        [ 5]])"
            ]
          },
          "metadata": {},
          "execution_count": 10
        }
      ]
    },
    {
      "cell_type": "markdown",
      "metadata": {
        "id": "llPpXVPHj3U_"
      },
      "source": [
        "**Return to slides here.**"
      ]
    },
    {
      "cell_type": "markdown",
      "metadata": {
        "id": "43tlq2huj3U_"
      },
      "source": [
        "## $L^2$ Norm"
      ]
    },
    {
      "cell_type": "code",
      "metadata": {
        "colab": {
          "base_uri": "https://localhost:8080/"
        },
        "id": "wF1B2qL1j3VA",
        "outputId": "626e5f3f-7002-463d-fcce-5e0023d57823"
      },
      "source": [
        "x"
      ],
      "execution_count": 11,
      "outputs": [
        {
          "output_type": "execute_result",
          "data": {
            "text/plain": [
              "array([[25,  2,  5]])"
            ]
          },
          "metadata": {},
          "execution_count": 11
        }
      ]
    },
    {
      "cell_type": "code",
      "metadata": {
        "colab": {
          "base_uri": "https://localhost:8080/"
        },
        "id": "SW2iYHE8j3VC",
        "outputId": "72d025d7-6252-4aa6-8201-fe191d9cd4ab"
      },
      "source": [
        "(25**2 + 2**2 + 5**2)**(1/2)"
      ],
      "execution_count": 12,
      "outputs": [
        {
          "output_type": "execute_result",
          "data": {
            "text/plain": [
              "25.573423705088842"
            ]
          },
          "metadata": {},
          "execution_count": 12
        }
      ]
    },
    {
      "cell_type": "code",
      "metadata": {
        "colab": {
          "base_uri": "https://localhost:8080/"
        },
        "id": "BGiMFU0pj3VE",
        "outputId": "a92f0b21-670d-408e-de36-50d2883b8c8c"
      },
      "source": [
        "np.linalg.norm(x)"
      ],
      "execution_count": 13,
      "outputs": [
        {
          "output_type": "execute_result",
          "data": {
            "text/plain": [
              "np.float64(25.573423705088842)"
            ]
          },
          "metadata": {},
          "execution_count": 13
        }
      ]
    },
    {
      "cell_type": "markdown",
      "metadata": {
        "id": "3YBk8ta2j3VI"
      },
      "source": [
        "So, if units in this 3-dimensional vector space are meters, then the vector $x$ has a length of 25.6m"
      ]
    },
    {
      "cell_type": "code",
      "metadata": {
        "id": "jjS4_w_Rj3VI"
      },
      "source": [
        "# the following line of code will fail because torch.norm() requires input to be float not integer\n",
        "# torch.norm(p)"
      ],
      "execution_count": 14,
      "outputs": []
    },
    {
      "cell_type": "code",
      "metadata": {
        "colab": {
          "base_uri": "https://localhost:8080/"
        },
        "id": "fgadi8SFj3VK",
        "outputId": "e3ace245-6b0c-4157-de80-673f42245b9d"
      },
      "source": [
        "torch.norm(torch.tensor([25, 2, 5.]))"
      ],
      "execution_count": 15,
      "outputs": [
        {
          "output_type": "execute_result",
          "data": {
            "text/plain": [
              "tensor(25.5734)"
            ]
          },
          "metadata": {},
          "execution_count": 15
        }
      ]
    },
    {
      "cell_type": "markdown",
      "metadata": {
        "id": "qHti3Xslj3VM"
      },
      "source": [
        "**Return to slides here.**"
      ]
    },
    {
      "cell_type": "markdown",
      "metadata": {
        "id": "4xDLTPutj3VN"
      },
      "source": [
        "### Matrices"
      ]
    },
    {
      "cell_type": "code",
      "metadata": {
        "colab": {
          "base_uri": "https://localhost:8080/"
        },
        "id": "Fep93KC7j3VN",
        "outputId": "6339b226-b84d-4173-f6a2-c5fb6a976107"
      },
      "source": [
        "X = np.array([[25, 2], [5, 26], [3, 7]])\n",
        "X"
      ],
      "execution_count": 16,
      "outputs": [
        {
          "output_type": "execute_result",
          "data": {
            "text/plain": [
              "array([[25,  2],\n",
              "       [ 5, 26],\n",
              "       [ 3,  7]])"
            ]
          },
          "metadata": {},
          "execution_count": 16
        }
      ]
    },
    {
      "cell_type": "code",
      "metadata": {
        "colab": {
          "base_uri": "https://localhost:8080/"
        },
        "id": "S_yMqWdSj3VP",
        "outputId": "4a40a044-ba06-4334-c13a-8cb01a35bea1"
      },
      "source": [
        "X.shape"
      ],
      "execution_count": 17,
      "outputs": [
        {
          "output_type": "execute_result",
          "data": {
            "text/plain": [
              "(3, 2)"
            ]
          },
          "metadata": {},
          "execution_count": 17
        }
      ]
    },
    {
      "cell_type": "code",
      "metadata": {
        "colab": {
          "base_uri": "https://localhost:8080/"
        },
        "id": "RDkn2n92j3VX",
        "outputId": "cbe58ccc-858e-4b65-c38d-60490b3375ec"
      },
      "source": [
        "X_p = torch.tensor([[25, 2], [5, 26], [3, 7]])\n",
        "X_p"
      ],
      "execution_count": 18,
      "outputs": [
        {
          "output_type": "execute_result",
          "data": {
            "text/plain": [
              "tensor([[25,  2],\n",
              "        [ 5, 26],\n",
              "        [ 3,  7]])"
            ]
          },
          "metadata": {},
          "execution_count": 18
        }
      ]
    },
    {
      "cell_type": "code",
      "metadata": {
        "colab": {
          "base_uri": "https://localhost:8080/"
        },
        "id": "SzpKBCqKj3VY",
        "outputId": "380343b5-d8fd-4ab3-c31e-51327a4c1255"
      },
      "source": [
        "X_p.shape"
      ],
      "execution_count": 19,
      "outputs": [
        {
          "output_type": "execute_result",
          "data": {
            "text/plain": [
              "torch.Size([3, 2])"
            ]
          },
          "metadata": {},
          "execution_count": 19
        }
      ]
    },
    {
      "cell_type": "markdown",
      "metadata": {
        "id": "pC1rWTlVj3Vg"
      },
      "source": [
        "### Matrix Transposition"
      ]
    },
    {
      "cell_type": "code",
      "metadata": {
        "colab": {
          "base_uri": "https://localhost:8080/"
        },
        "id": "srh333wTj3Vg",
        "outputId": "5fe4502b-ea5d-4504-ca2b-f868b41335f3"
      },
      "source": [
        "X"
      ],
      "execution_count": 20,
      "outputs": [
        {
          "output_type": "execute_result",
          "data": {
            "text/plain": [
              "array([[25,  2],\n",
              "       [ 5, 26],\n",
              "       [ 3,  7]])"
            ]
          },
          "metadata": {},
          "execution_count": 20
        }
      ]
    },
    {
      "cell_type": "code",
      "metadata": {
        "colab": {
          "base_uri": "https://localhost:8080/"
        },
        "id": "e7siMBsRj3Vi",
        "outputId": "fad406b1-80d6-4f76-dd6a-4c1d1d1fcb5e"
      },
      "source": [
        "X.T"
      ],
      "execution_count": 21,
      "outputs": [
        {
          "output_type": "execute_result",
          "data": {
            "text/plain": [
              "array([[25,  5,  3],\n",
              "       [ 2, 26,  7]])"
            ]
          },
          "metadata": {},
          "execution_count": 21
        }
      ]
    },
    {
      "cell_type": "code",
      "metadata": {
        "colab": {
          "base_uri": "https://localhost:8080/"
        },
        "id": "YF3iqTkUj3Vk",
        "outputId": "34737145-f800-4158-a7a0-fb11de884c21"
      },
      "source": [
        "X_p.T"
      ],
      "execution_count": 22,
      "outputs": [
        {
          "output_type": "execute_result",
          "data": {
            "text/plain": [
              "tensor([[25,  5,  3],\n",
              "        [ 2, 26,  7]])"
            ]
          },
          "metadata": {},
          "execution_count": 22
        }
      ]
    },
    {
      "cell_type": "markdown",
      "metadata": {
        "id": "mXo5iD5Xj3Vm"
      },
      "source": [
        "**Return to slides here.**"
      ]
    },
    {
      "cell_type": "markdown",
      "metadata": {
        "id": "loFYZ-pXj3Vm"
      },
      "source": [
        "### Matrix Multiplication"
      ]
    },
    {
      "cell_type": "markdown",
      "metadata": {
        "id": "BrHCDYrzj3Vm"
      },
      "source": [
        "Scalars are applied to each element of matrix:"
      ]
    },
    {
      "cell_type": "code",
      "metadata": {
        "colab": {
          "base_uri": "https://localhost:8080/"
        },
        "id": "Yf3WIZ6Jj3Vn",
        "outputId": "a49bf4cb-5b2f-4bba-af33-4b59a57a8e5f"
      },
      "source": [
        "X*3"
      ],
      "execution_count": 23,
      "outputs": [
        {
          "output_type": "execute_result",
          "data": {
            "text/plain": [
              "array([[75,  6],\n",
              "       [15, 78],\n",
              "       [ 9, 21]])"
            ]
          },
          "metadata": {},
          "execution_count": 23
        }
      ]
    },
    {
      "cell_type": "code",
      "metadata": {
        "colab": {
          "base_uri": "https://localhost:8080/"
        },
        "id": "Pk-lY78Nj3Vp",
        "outputId": "3da609dc-6c64-403d-ff72-8eaece63ef5c"
      },
      "source": [
        "X*3+3"
      ],
      "execution_count": 24,
      "outputs": [
        {
          "output_type": "execute_result",
          "data": {
            "text/plain": [
              "array([[78,  9],\n",
              "       [18, 81],\n",
              "       [12, 24]])"
            ]
          },
          "metadata": {},
          "execution_count": 24
        }
      ]
    },
    {
      "cell_type": "code",
      "metadata": {
        "colab": {
          "base_uri": "https://localhost:8080/"
        },
        "id": "g_sJ0NI8j3Vq",
        "outputId": "5b6f992f-3789-4f5d-f6c2-f1eaaf8eea43"
      },
      "source": [
        "X_p*3"
      ],
      "execution_count": 25,
      "outputs": [
        {
          "output_type": "execute_result",
          "data": {
            "text/plain": [
              "tensor([[75,  6],\n",
              "        [15, 78],\n",
              "        [ 9, 21]])"
            ]
          },
          "metadata": {},
          "execution_count": 25
        }
      ]
    },
    {
      "cell_type": "code",
      "metadata": {
        "colab": {
          "base_uri": "https://localhost:8080/"
        },
        "id": "jebPN-iPj3Vs",
        "outputId": "51ae73ec-633c-49ba-b8bf-41338c70962f"
      },
      "source": [
        "X_p*3+3"
      ],
      "execution_count": 26,
      "outputs": [
        {
          "output_type": "execute_result",
          "data": {
            "text/plain": [
              "tensor([[78,  9],\n",
              "        [18, 81],\n",
              "        [12, 24]])"
            ]
          },
          "metadata": {},
          "execution_count": 26
        }
      ]
    },
    {
      "cell_type": "markdown",
      "metadata": {
        "id": "-a4o6abYj3Vu"
      },
      "source": [
        "Using the multiplication operator on two tensors of the same size in PyTorch (or Numpy or TensorFlow) applies element-wise operations. This is the **Hadamard product** (denoted by the $\\odot$ operator, e.g., $A \\odot B$) *not* **matrix multiplication**:"
      ]
    },
    {
      "cell_type": "code",
      "metadata": {
        "colab": {
          "base_uri": "https://localhost:8080/"
        },
        "id": "JtRT2V0cj3Vu",
        "outputId": "e00e239f-d033-48d8-ec4f-a78b2fafa1e1"
      },
      "source": [
        "A = np.array([[3, 4], [5, 6], [7, 8]])\n",
        "A"
      ],
      "execution_count": 27,
      "outputs": [
        {
          "output_type": "execute_result",
          "data": {
            "text/plain": [
              "array([[3, 4],\n",
              "       [5, 6],\n",
              "       [7, 8]])"
            ]
          },
          "metadata": {},
          "execution_count": 27
        }
      ]
    },
    {
      "cell_type": "code",
      "metadata": {
        "colab": {
          "base_uri": "https://localhost:8080/"
        },
        "id": "LLJYG8MIj3Vw",
        "outputId": "b026038b-3d96-4e71-dc0b-64051027980e"
      },
      "source": [
        "X"
      ],
      "execution_count": 28,
      "outputs": [
        {
          "output_type": "execute_result",
          "data": {
            "text/plain": [
              "array([[25,  2],\n",
              "       [ 5, 26],\n",
              "       [ 3,  7]])"
            ]
          },
          "metadata": {},
          "execution_count": 28
        }
      ]
    },
    {
      "cell_type": "code",
      "metadata": {
        "colab": {
          "base_uri": "https://localhost:8080/"
        },
        "id": "MtXoLfKbj3Vx",
        "outputId": "355cb6ed-35f8-4212-c62e-1bb70eadd8ba"
      },
      "source": [
        "X * A"
      ],
      "execution_count": 29,
      "outputs": [
        {
          "output_type": "execute_result",
          "data": {
            "text/plain": [
              "array([[ 75,   8],\n",
              "       [ 25, 156],\n",
              "       [ 21,  56]])"
            ]
          },
          "metadata": {},
          "execution_count": 29
        }
      ]
    },
    {
      "cell_type": "code",
      "metadata": {
        "colab": {
          "base_uri": "https://localhost:8080/"
        },
        "id": "8T09ZO4ij3Vz",
        "outputId": "c164447d-e705-472b-96e5-14e4811dd72c"
      },
      "source": [
        "A_p = torch.tensor([[3, 4], [5, 6], [7, 8]])\n",
        "A_p"
      ],
      "execution_count": 30,
      "outputs": [
        {
          "output_type": "execute_result",
          "data": {
            "text/plain": [
              "tensor([[3, 4],\n",
              "        [5, 6],\n",
              "        [7, 8]])"
            ]
          },
          "metadata": {},
          "execution_count": 30
        }
      ]
    },
    {
      "cell_type": "code",
      "metadata": {
        "colab": {
          "base_uri": "https://localhost:8080/"
        },
        "id": "VBadBzQJj3V1",
        "outputId": "1d4dfd58-129b-4062-b5c4-99cb63ae18ca"
      },
      "source": [
        "X_p * A_p"
      ],
      "execution_count": 31,
      "outputs": [
        {
          "output_type": "execute_result",
          "data": {
            "text/plain": [
              "tensor([[ 75,   8],\n",
              "        [ 25, 156],\n",
              "        [ 21,  56]])"
            ]
          },
          "metadata": {},
          "execution_count": 31
        }
      ]
    },
    {
      "cell_type": "markdown",
      "metadata": {
        "id": "s_4kMhF7j3V4"
      },
      "source": [
        "Matrix multiplication with a vector:"
      ]
    },
    {
      "cell_type": "code",
      "metadata": {
        "colab": {
          "base_uri": "https://localhost:8080/"
        },
        "id": "LAJEstCLj3V5",
        "outputId": "87c2fe28-0e16-499d-e72c-6b1dfbab4db4"
      },
      "source": [
        "b = np.array([1, 2])\n",
        "b"
      ],
      "execution_count": 32,
      "outputs": [
        {
          "output_type": "execute_result",
          "data": {
            "text/plain": [
              "array([1, 2])"
            ]
          },
          "metadata": {},
          "execution_count": 32
        }
      ]
    },
    {
      "cell_type": "code",
      "metadata": {
        "colab": {
          "base_uri": "https://localhost:8080/"
        },
        "id": "ZOxK6XEXj3V8",
        "outputId": "2b677f96-2ec7-4094-f41e-e93b8af9bf07"
      },
      "source": [
        "np.dot(A, b) # even though technically dot products is between 2 vectors"
      ],
      "execution_count": 33,
      "outputs": [
        {
          "output_type": "execute_result",
          "data": {
            "text/plain": [
              "array([11, 17, 23])"
            ]
          },
          "metadata": {},
          "execution_count": 33
        }
      ]
    },
    {
      "cell_type": "code",
      "metadata": {
        "colab": {
          "base_uri": "https://localhost:8080/"
        },
        "id": "0Y3Ohltbj3V-",
        "outputId": "c424b690-5a8b-41d4-ce52-ea9756289dc0"
      },
      "source": [
        "b_p = torch.tensor([1, 2])\n",
        "b_p"
      ],
      "execution_count": 34,
      "outputs": [
        {
          "output_type": "execute_result",
          "data": {
            "text/plain": [
              "tensor([1, 2])"
            ]
          },
          "metadata": {},
          "execution_count": 34
        }
      ]
    },
    {
      "cell_type": "code",
      "metadata": {
        "colab": {
          "base_uri": "https://localhost:8080/"
        },
        "id": "LioexYZ_j3WB",
        "outputId": "fd27133f-5281-4e40-a986-a9677ee04f18"
      },
      "source": [
        "torch.matmul(A_p, b_p)"
      ],
      "execution_count": 35,
      "outputs": [
        {
          "output_type": "execute_result",
          "data": {
            "text/plain": [
              "tensor([11, 17, 23])"
            ]
          },
          "metadata": {},
          "execution_count": 35
        }
      ]
    },
    {
      "cell_type": "markdown",
      "metadata": {
        "id": "6Wa5CB28j3WC"
      },
      "source": [
        "Matrix multiplication with two matrices:"
      ]
    },
    {
      "cell_type": "code",
      "metadata": {
        "colab": {
          "base_uri": "https://localhost:8080/"
        },
        "id": "a8ZXM-T4j3WD",
        "outputId": "26cd02d0-8c22-4582-fad3-5bb1dd298df5"
      },
      "source": [
        "B = np.array([[1, 9], [2, 0]])\n",
        "B"
      ],
      "execution_count": 36,
      "outputs": [
        {
          "output_type": "execute_result",
          "data": {
            "text/plain": [
              "array([[1, 9],\n",
              "       [2, 0]])"
            ]
          },
          "metadata": {},
          "execution_count": 36
        }
      ]
    },
    {
      "cell_type": "code",
      "metadata": {
        "colab": {
          "base_uri": "https://localhost:8080/"
        },
        "id": "xE0DA5Xrj3WF",
        "outputId": "f70efd15-9a9c-41db-f240-6b167263c864"
      },
      "source": [
        "np.dot(A, B) # note first column is same as Xb"
      ],
      "execution_count": 37,
      "outputs": [
        {
          "output_type": "execute_result",
          "data": {
            "text/plain": [
              "array([[11, 27],\n",
              "       [17, 45],\n",
              "       [23, 63]])"
            ]
          },
          "metadata": {},
          "execution_count": 37
        }
      ]
    },
    {
      "cell_type": "code",
      "metadata": {
        "colab": {
          "base_uri": "https://localhost:8080/"
        },
        "id": "bBvYO9jFj3WH",
        "outputId": "941372a7-7005-4988-a286-918d9ad21d08"
      },
      "source": [
        "B_p = torch.tensor([[1, 9], [2, 0]])\n",
        "B_p"
      ],
      "execution_count": 38,
      "outputs": [
        {
          "output_type": "execute_result",
          "data": {
            "text/plain": [
              "tensor([[1, 9],\n",
              "        [2, 0]])"
            ]
          },
          "metadata": {},
          "execution_count": 38
        }
      ]
    },
    {
      "cell_type": "code",
      "metadata": {
        "colab": {
          "base_uri": "https://localhost:8080/"
        },
        "id": "o2nEnn3Mj3WI",
        "outputId": "9d64ca6f-0de6-480d-9bd1-e613b265ec60"
      },
      "source": [
        "torch.matmul(A_p, B_p)"
      ],
      "execution_count": 39,
      "outputs": [
        {
          "output_type": "execute_result",
          "data": {
            "text/plain": [
              "tensor([[11, 27],\n",
              "        [17, 45],\n",
              "        [23, 63]])"
            ]
          },
          "metadata": {},
          "execution_count": 39
        }
      ]
    },
    {
      "cell_type": "markdown",
      "metadata": {
        "id": "eCFqu8LWj3WJ"
      },
      "source": [
        "### Matrix Inversion"
      ]
    },
    {
      "cell_type": "code",
      "metadata": {
        "colab": {
          "base_uri": "https://localhost:8080/"
        },
        "id": "Hhr16-XVj3WK",
        "outputId": "0a8af93c-56e2-447f-ead8-f5bfe31509b0"
      },
      "source": [
        "X = np.array([[4, 2], [-5, -3]])\n",
        "X"
      ],
      "execution_count": 40,
      "outputs": [
        {
          "output_type": "execute_result",
          "data": {
            "text/plain": [
              "array([[ 4,  2],\n",
              "       [-5, -3]])"
            ]
          },
          "metadata": {},
          "execution_count": 40
        }
      ]
    },
    {
      "cell_type": "code",
      "metadata": {
        "colab": {
          "base_uri": "https://localhost:8080/"
        },
        "id": "FIGmFK9oj3WM",
        "outputId": "d349c34f-f0cb-4348-89d7-1de7a6e779b5"
      },
      "source": [
        "Xinv = np.linalg.inv(X)\n",
        "Xinv"
      ],
      "execution_count": 41,
      "outputs": [
        {
          "output_type": "execute_result",
          "data": {
            "text/plain": [
              "array([[ 1.5,  1. ],\n",
              "       [-2.5, -2. ]])"
            ]
          },
          "metadata": {},
          "execution_count": 41
        }
      ]
    },
    {
      "cell_type": "code",
      "metadata": {
        "colab": {
          "base_uri": "https://localhost:8080/"
        },
        "id": "WWEFauNsj3WO",
        "outputId": "64891173-2f21-4319-da90-3c8226fb07a7"
      },
      "source": [
        "y = np.array([4, -7])\n",
        "y"
      ],
      "execution_count": 42,
      "outputs": [
        {
          "output_type": "execute_result",
          "data": {
            "text/plain": [
              "array([ 4, -7])"
            ]
          },
          "metadata": {},
          "execution_count": 42
        }
      ]
    },
    {
      "cell_type": "code",
      "metadata": {
        "colab": {
          "base_uri": "https://localhost:8080/"
        },
        "id": "egKyXcZhj3WR",
        "outputId": "b493812e-c74f-4053-ae5e-ce18aac76b1b"
      },
      "source": [
        "w = np.dot(Xinv, y)\n",
        "w"
      ],
      "execution_count": 43,
      "outputs": [
        {
          "output_type": "execute_result",
          "data": {
            "text/plain": [
              "array([-1.,  4.])"
            ]
          },
          "metadata": {},
          "execution_count": 43
        }
      ]
    },
    {
      "cell_type": "markdown",
      "metadata": {
        "id": "4-QHJQR5LWvF"
      },
      "source": [
        "Show that $y = Xw$:"
      ]
    },
    {
      "cell_type": "code",
      "metadata": {
        "colab": {
          "base_uri": "https://localhost:8080/"
        },
        "id": "W-6jEzyRLWvG",
        "outputId": "8b3274b2-361b-41e2-b095-ec1f56df378b"
      },
      "source": [
        "np.dot(X, w)"
      ],
      "execution_count": 44,
      "outputs": [
        {
          "output_type": "execute_result",
          "data": {
            "text/plain": [
              "array([ 4., -7.])"
            ]
          },
          "metadata": {},
          "execution_count": 44
        }
      ]
    },
    {
      "cell_type": "code",
      "metadata": {
        "colab": {
          "base_uri": "https://localhost:8080/"
        },
        "id": "jro-lItLj3WT",
        "outputId": "0668cbac-6a28-4afc-a6b8-49cab030ef01"
      },
      "source": [
        "X_p = torch.tensor([[4, 2], [-5, -3.]]) # note that torch.inverse() requires floats\n",
        "X_p"
      ],
      "execution_count": 45,
      "outputs": [
        {
          "output_type": "execute_result",
          "data": {
            "text/plain": [
              "tensor([[ 4.,  2.],\n",
              "        [-5., -3.]])"
            ]
          },
          "metadata": {},
          "execution_count": 45
        }
      ]
    },
    {
      "cell_type": "code",
      "metadata": {
        "colab": {
          "base_uri": "https://localhost:8080/"
        },
        "id": "o4HfI57Nj3WW",
        "outputId": "2db1ac1b-5b79-4880-9b72-1dc1d109cc28"
      },
      "source": [
        "Xinv_p = torch.inverse(X_p)\n",
        "Xinv_p"
      ],
      "execution_count": 46,
      "outputs": [
        {
          "output_type": "execute_result",
          "data": {
            "text/plain": [
              "tensor([[ 1.5000,  1.0000],\n",
              "        [-2.5000, -2.0000]])"
            ]
          },
          "metadata": {},
          "execution_count": 46
        }
      ]
    },
    {
      "cell_type": "code",
      "metadata": {
        "colab": {
          "base_uri": "https://localhost:8080/"
        },
        "id": "dy88LRcyj3WY",
        "outputId": "cfaab7eb-12fb-4e45-a2fd-98d696324ffd"
      },
      "source": [
        "y_p = torch.tensor([4, -7.])\n",
        "y_p"
      ],
      "execution_count": 47,
      "outputs": [
        {
          "output_type": "execute_result",
          "data": {
            "text/plain": [
              "tensor([ 4., -7.])"
            ]
          },
          "metadata": {},
          "execution_count": 47
        }
      ]
    },
    {
      "cell_type": "code",
      "metadata": {
        "colab": {
          "base_uri": "https://localhost:8080/"
        },
        "id": "1wB3r-ggj3Wa",
        "outputId": "c84e763b-5c51-41f5-c64b-9e1aa0674bd1"
      },
      "source": [
        "w_p = torch.matmul(Xinv_p, y_p)\n",
        "w_p"
      ],
      "execution_count": 48,
      "outputs": [
        {
          "output_type": "execute_result",
          "data": {
            "text/plain": [
              "tensor([-1.,  4.])"
            ]
          },
          "metadata": {},
          "execution_count": 48
        }
      ]
    },
    {
      "cell_type": "code",
      "metadata": {
        "colab": {
          "base_uri": "https://localhost:8080/"
        },
        "id": "tksRdg5JLWvQ",
        "outputId": "453fbb55-4b87-4e39-df71-5f9880c6d6db"
      },
      "source": [
        "torch.matmul(X_p, w_p)"
      ],
      "execution_count": 49,
      "outputs": [
        {
          "output_type": "execute_result",
          "data": {
            "text/plain": [
              "tensor([ 4., -7.])"
            ]
          },
          "metadata": {},
          "execution_count": 49
        }
      ]
    },
    {
      "cell_type": "markdown",
      "metadata": {
        "id": "oWXikiwFj3Wb"
      },
      "source": [
        "**Return to slides here.**"
      ]
    },
    {
      "cell_type": "markdown",
      "metadata": {
        "id": "R4XpcVX2j3Wc"
      },
      "source": [
        "## Segment 2: Eigendecomposition"
      ]
    },
    {
      "cell_type": "markdown",
      "metadata": {
        "id": "2vgT25z9fN_E"
      },
      "source": [
        "### Affine Transformation via Matrix Application"
      ]
    },
    {
      "cell_type": "markdown",
      "metadata": {
        "id": "gLjGas2ij3Ws"
      },
      "source": [
        "Let's say we have a vector $v$:"
      ]
    },
    {
      "cell_type": "code",
      "metadata": {
        "colab": {
          "base_uri": "https://localhost:8080/"
        },
        "id": "zZvzKGRkj3Ws",
        "outputId": "8d1ad44a-6382-4bed-cc8b-7c018f3bb386"
      },
      "source": [
        "v = np.array([3, 1])\n",
        "v"
      ],
      "execution_count": 50,
      "outputs": [
        {
          "output_type": "execute_result",
          "data": {
            "text/plain": [
              "array([3, 1])"
            ]
          },
          "metadata": {},
          "execution_count": 50
        }
      ]
    },
    {
      "cell_type": "markdown",
      "metadata": {
        "id": "4UlRvHvZj3Wt"
      },
      "source": [
        "Let's plot $v$ using my `plot_vectors()` function (which is based on Hadrien Jean's `plotVectors()` function from [this notebook](https://github.com/hadrienj/deepLearningBook-Notes/blob/master/2.7%20Eigendecomposition/2.7%20Eigendecomposition.ipynb), under [MIT license](https://github.com/hadrienj/deepLearningBook-Notes/blob/master/LICENSE))."
      ]
    },
    {
      "cell_type": "code",
      "metadata": {
        "id": "Hl54713Rj3Wt"
      },
      "source": [
        "import matplotlib.pyplot as plt"
      ],
      "execution_count": 51,
      "outputs": []
    },
    {
      "cell_type": "code",
      "metadata": {
        "id": "fmyWW7Xvj3Wu"
      },
      "source": [
        "def plot_vectors(vectors, colors):\n",
        "    \"\"\"\n",
        "    Plot one or more vectors in a 2D plane, specifying a color for each.\n",
        "\n",
        "    Arguments\n",
        "    ---------\n",
        "    vectors: list of lists or of arrays\n",
        "        Coordinates of the vectors to plot. For example, [[1, 3], [2, 2]]\n",
        "        contains two vectors to plot, [1, 3] and [2, 2].\n",
        "    colors: list\n",
        "        Colors of the vectors. For instance: ['red', 'blue'] will display the\n",
        "        first vector in red and the second in blue.\n",
        "\n",
        "    Example\n",
        "    -------\n",
        "    plot_vectors([[1, 3], [2, 2]], ['red', 'blue'])\n",
        "    plt.xlim(-1, 4)\n",
        "    plt.ylim(-1, 4)\n",
        "    \"\"\"\n",
        "    plt.figure()\n",
        "    plt.axvline(x=0, color='lightgray')\n",
        "    plt.axhline(y=0, color='lightgray')\n",
        "\n",
        "    for i in range(len(vectors)):\n",
        "        x = np.concatenate([[0,0],vectors[i]])\n",
        "        plt.quiver([x[0]], [x[1]], [x[2]], [x[3]],\n",
        "                   angles='xy', scale_units='xy', scale=1, color=colors[i],)"
      ],
      "execution_count": 52,
      "outputs": []
    },
    {
      "cell_type": "code",
      "metadata": {
        "colab": {
          "base_uri": "https://localhost:8080/",
          "height": 435
        },
        "id": "8uP1xgnLj3Wx",
        "outputId": "e1c967f1-6f92-44ef-e543-742930612f5c"
      },
      "source": [
        "plot_vectors([v], ['lightblue'])\n",
        "plt.xlim(-1, 5)\n",
        "_ = plt.ylim(-1, 5)"
      ],
      "execution_count": 53,
      "outputs": [
        {
          "output_type": "display_data",
          "data": {
            "text/plain": [
              "<Figure size 640x480 with 1 Axes>"
            ],
            "image/png": "[encoded data removed]"
          },
          "metadata": {}
        }
      ]
    },
    {
      "cell_type": "markdown",
      "metadata": {
        "id": "ydGgh5lRj3Wy"
      },
      "source": [
        "\"Applying\" a matrix to a vector (i.e., performing matrix-vector multiplication) can linearly transform the vector, e.g, rotate it or rescale it."
      ]
    },
    {
      "cell_type": "markdown",
      "metadata": {
        "id": "ReW9fF-sj3Wy"
      },
      "source": [
        "The identity matrix, introduced earlier, is the exception that proves the rule: Applying an identity matrix does not transform the vector:"
      ]
    },
    {
      "cell_type": "code",
      "metadata": {
        "colab": {
          "base_uri": "https://localhost:8080/"
        },
        "id": "0riv3SS8j3Wz",
        "outputId": "1b89744a-43c3-4774-9264-8c6dfb074ed6"
      },
      "source": [
        "I = np.array([[1, 0], [0, 1]])\n",
        "I"
      ],
      "execution_count": 54,
      "outputs": [
        {
          "output_type": "execute_result",
          "data": {
            "text/plain": [
              "array([[1, 0],\n",
              "       [0, 1]])"
            ]
          },
          "metadata": {},
          "execution_count": 54
        }
      ]
    },
    {
      "cell_type": "code",
      "metadata": {
        "colab": {
          "base_uri": "https://localhost:8080/"
        },
        "id": "nc7nn6VDj3W0",
        "outputId": "7c058f09-634b-4cc4-caa2-6b3640c53c65"
      },
      "source": [
        "Iv = np.dot(I, v)\n",
        "Iv"
      ],
      "execution_count": 55,
      "outputs": [
        {
          "output_type": "execute_result",
          "data": {
            "text/plain": [
              "array([3, 1])"
            ]
          },
          "metadata": {},
          "execution_count": 55
        }
      ]
    },
    {
      "cell_type": "code",
      "metadata": {
        "colab": {
          "base_uri": "https://localhost:8080/"
        },
        "id": "AXQBaq2fj3W1",
        "outputId": "d924d3ee-02db-4196-f3ad-2e7c47031067"
      },
      "source": [
        "v == Iv"
      ],
      "execution_count": 56,
      "outputs": [
        {
          "output_type": "execute_result",
          "data": {
            "text/plain": [
              "array([ True,  True])"
            ]
          },
          "metadata": {},
          "execution_count": 56
        }
      ]
    },
    {
      "cell_type": "code",
      "metadata": {
        "colab": {
          "base_uri": "https://localhost:8080/",
          "height": 435
        },
        "id": "SP81dIksj3W3",
        "outputId": "f0ce3f46-a007-48d4-888b-a2cc395c4980"
      },
      "source": [
        "plot_vectors([Iv], ['blue'])\n",
        "plt.xlim(-1, 5)\n",
        "_ = plt.ylim(-1, 5)"
      ],
      "execution_count": 57,
      "outputs": [
        {
          "output_type": "display_data",
          "data": {
            "text/plain": [
              "<Figure size 640x480 with 1 Axes>"
            ],
            "image/png": "[encoded data removed]"
          },
          "metadata": {}
        }
      ]
    },
    {
      "cell_type": "markdown",
      "metadata": {
        "id": "knI50bEJ8UsQ"
      },
      "source": [
        "In contrast, consider this matrix (let's call it $E$) that flips vectors over the $x$-axis:"
      ]
    },
    {
      "cell_type": "code",
      "metadata": {
        "id": "PTGnNFx48UsR",
        "colab": {
          "base_uri": "https://localhost:8080/"
        },
        "outputId": "60c38e45-624c-49d1-83f3-a2dd86157a11"
      },
      "source": [
        "E = np.array([[1, 0], [0, -1]])\n",
        "E"
      ],
      "execution_count": 58,
      "outputs": [
        {
          "output_type": "execute_result",
          "data": {
            "text/plain": [
              "array([[ 1,  0],\n",
              "       [ 0, -1]])"
            ]
          },
          "metadata": {},
          "execution_count": 58
        }
      ]
    },
    {
      "cell_type": "code",
      "metadata": {
        "id": "d6CZbgfT8UsS",
        "colab": {
          "base_uri": "https://localhost:8080/"
        },
        "outputId": "b94d6cc2-d2a7-45e4-fd1d-9b928c19b16f"
      },
      "source": [
        "Ev = np.dot(E, v)\n",
        "Ev"
      ],
      "execution_count": 59,
      "outputs": [
        {
          "output_type": "execute_result",
          "data": {
            "text/plain": [
              "array([ 3, -1])"
            ]
          },
          "metadata": {},
          "execution_count": 59
        }
      ]
    },
    {
      "cell_type": "code",
      "metadata": {
        "id": "0hDvoi258UsS",
        "colab": {
          "base_uri": "https://localhost:8080/",
          "height": 435
        },
        "outputId": "bb2ad2aa-1762-41e7-be1d-c8dab3e7cc7a"
      },
      "source": [
        "plot_vectors([v, Ev], ['lightblue', 'blue'])\n",
        "plt.xlim(-1, 5)\n",
        "_ = plt.ylim(-3, 3)"
      ],
      "execution_count": 60,
      "outputs": [
        {
          "output_type": "display_data",
          "data": {
            "text/plain": [
              "<Figure size 640x480 with 1 Axes>"
            ],
            "image/png": "[encoded data removed]"
          },
          "metadata": {}
        }
      ]
    },
    {
      "cell_type": "markdown",
      "metadata": {
        "id": "cfj26eui8UsS"
      },
      "source": [
        "Or, this matrix, $F$, which flips vectors over the $y$-axis:"
      ]
    },
    {
      "cell_type": "code",
      "metadata": {
        "id": "E5wijvsi8UsT",
        "colab": {
          "base_uri": "https://localhost:8080/"
        },
        "outputId": "f55ef9be-d93c-4097-a8bc-3d10bf33effd"
      },
      "source": [
        "F = np.array([[-1, 0], [0, 1]])\n",
        "F"
      ],
      "execution_count": 61,
      "outputs": [
        {
          "output_type": "execute_result",
          "data": {
            "text/plain": [
              "array([[-1,  0],\n",
              "       [ 0,  1]])"
            ]
          },
          "metadata": {},
          "execution_count": 61
        }
      ]
    },
    {
      "cell_type": "code",
      "metadata": {
        "id": "P7tQhi2Z8UsT",
        "colab": {
          "base_uri": "https://localhost:8080/"
        },
        "outputId": "c18732c8-a772-48d2-ffe5-c46e966d3269"
      },
      "source": [
        "Fv = np.dot(F, v)\n",
        "Fv"
      ],
      "execution_count": 62,
      "outputs": [
        {
          "output_type": "execute_result",
          "data": {
            "text/plain": [
              "array([-3,  1])"
            ]
          },
          "metadata": {},
          "execution_count": 62
        }
      ]
    },
    {
      "cell_type": "code",
      "metadata": {
        "id": "xrlgyYFH8UsT",
        "colab": {
          "base_uri": "https://localhost:8080/",
          "height": 435
        },
        "outputId": "04c14044-1f98-4971-ab76-cece2d15d35d"
      },
      "source": [
        "plot_vectors([v, Fv], ['lightblue', 'blue'])\n",
        "plt.xlim(-4, 4)\n",
        "_ = plt.ylim(-1, 5)"
      ],
      "execution_count": 63,
      "outputs": [
        {
          "output_type": "display_data",
          "data": {
            "text/plain": [
              "<Figure size 640x480 with 1 Axes>"
            ],
            "image/png": "[encoded data removed]"
          },
          "metadata": {}
        }
      ]
    },
    {
      "cell_type": "markdown",
      "metadata": {
        "id": "bDVVb2Ty8UsT"
      },
      "source": [
        "Applying a flipping matrix is an example of an **affine transformation**: a change in geometry that may adjust distances or angles between vectors, but preserves parallelism between them.\n",
        "\n",
        "In addition to flipping a matrix over an axis (a.k.a., *reflection*), other common affine transformations include:\n",
        "* *Scaling* (changing the length of vectors)\n",
        "* *Shearing* (example of this on the Mona Lisa coming up shortly)\n",
        "* *Rotation*\n",
        "\n",
        "(See [here](https://stackabuse.com/affine-image-transformations-in-python-with-numpy-pillow-and-opencv/) for an outstanding blog post on affine transformations in Python, including how to apply them to images as well as vectors.)"
      ]
    },
    {
      "cell_type": "markdown",
      "metadata": {
        "id": "JcdkCchSj3W4"
      },
      "source": [
        "A single matrix can apply multiple affine transforms simultaneously (e.g., flip over an axis and rotate 45 degrees). As an example, let's see what happens when we apply this matrix $A$ to the vector $v$:"
      ]
    },
    {
      "cell_type": "code",
      "metadata": {
        "colab": {
          "base_uri": "https://localhost:8080/"
        },
        "id": "R-EsIE7cj3W4",
        "outputId": "0ce077ef-fd61-4c87-f279-0838fc753c82"
      },
      "source": [
        "A = np.array([[-1, 4], [2, -2]])\n",
        "A"
      ],
      "execution_count": 64,
      "outputs": [
        {
          "output_type": "execute_result",
          "data": {
            "text/plain": [
              "array([[-1,  4],\n",
              "       [ 2, -2]])"
            ]
          },
          "metadata": {},
          "execution_count": 64
        }
      ]
    },
    {
      "cell_type": "code",
      "metadata": {
        "colab": {
          "base_uri": "https://localhost:8080/"
        },
        "id": "DZ0rxeKTj3W5",
        "outputId": "0635d83e-1a38-4fe4-a5a5-6b8846557293"
      },
      "source": [
        "Av = np.dot(A, v)\n",
        "Av"
      ],
      "execution_count": 65,
      "outputs": [
        {
          "output_type": "execute_result",
          "data": {
            "text/plain": [
              "array([1, 4])"
            ]
          },
          "metadata": {},
          "execution_count": 65
        }
      ]
    },
    {
      "cell_type": "code",
      "metadata": {
        "colab": {
          "base_uri": "https://localhost:8080/",
          "height": 435
        },
        "id": "RCAfNJ8hj3W7",
        "outputId": "5f829edf-d215-4202-a201-55956359aa91"
      },
      "source": [
        "plot_vectors([v, Av], ['lightblue', 'blue'])\n",
        "plt.xlim(-1, 5)\n",
        "_ = plt.ylim(-1, 5)"
      ],
      "execution_count": 66,
      "outputs": [
        {
          "output_type": "display_data",
          "data": {
            "text/plain": [
              "<Figure size 640x480 with 1 Axes>"
            ],
            "image/png": "[encoded data removed]"
          },
          "metadata": {}
        }
      ]
    },
    {
      "cell_type": "code",
      "metadata": {
        "colab": {
          "base_uri": "https://localhost:8080/",
          "height": 435
        },
        "id": "7cMA5yMij3W8",
        "outputId": "edf21d93-2cc0-4cce-fc5f-8046b87eb77f"
      },
      "source": [
        "# Another example of applying A:\n",
        "v2 = np.array([2, 1])\n",
        "plot_vectors([v2, np.dot(A, v2)], ['lightgreen', 'green'])\n",
        "plt.xlim(-1, 5)\n",
        "_ = plt.ylim(-1, 5)"
      ],
      "execution_count": 67,
      "outputs": [
        {
          "output_type": "display_data",
          "data": {
            "text/plain": [
              "<Figure size 640x480 with 1 Axes>"
            ],
            "image/png": "[encoded data removed]"
          },
          "metadata": {}
        }
      ]
    },
    {
      "cell_type": "markdown",
      "metadata": {
        "id": "gRqpCA6qj3W-"
      },
      "source": [
        "We can concatenate several vectors together into a matrix (say, $V$), where each column is a separate vector. Then, whatever linear transformations we apply to $V$ will be independently applied to each column (vector):"
      ]
    },
    {
      "cell_type": "code",
      "metadata": {
        "colab": {
          "base_uri": "https://localhost:8080/"
        },
        "id": "dsRo3xPFj3W-",
        "outputId": "c5d403c3-74cf-4c9a-f194-06f92d988b9d"
      },
      "source": [
        "v"
      ],
      "execution_count": 68,
      "outputs": [
        {
          "output_type": "execute_result",
          "data": {
            "text/plain": [
              "array([3, 1])"
            ]
          },
          "metadata": {},
          "execution_count": 68
        }
      ]
    },
    {
      "cell_type": "code",
      "metadata": {
        "colab": {
          "base_uri": "https://localhost:8080/"
        },
        "id": "nQDdsKXNj3XA",
        "outputId": "894ebd09-97ae-40cc-e4c2-dfccdc10f98c"
      },
      "source": [
        "# recall that we need to convert array to 2D to transpose into column, e.g.:\n",
        "np.matrix(v).T"
      ],
      "execution_count": 69,
      "outputs": [
        {
          "output_type": "execute_result",
          "data": {
            "text/plain": [
              "matrix([[3],\n",
              "        [1]])"
            ]
          },
          "metadata": {},
          "execution_count": 69
        }
      ]
    },
    {
      "cell_type": "code",
      "metadata": {
        "id": "Zb9cSgjnj3XB"
      },
      "source": [
        "v3 = np.array([-3, -1]) # mirror image of v over both axes\n",
        "v4 = np.array([-1, 1])"
      ],
      "execution_count": 70,
      "outputs": []
    },
    {
      "cell_type": "code",
      "metadata": {
        "colab": {
          "base_uri": "https://localhost:8080/"
        },
        "id": "EsdcEFXYj3XC",
        "outputId": "5ce50211-ef6f-4dcc-d6d3-c54438b7c194"
      },
      "source": [
        "V = np.concatenate((np.matrix(v).T,\n",
        "                    np.matrix(v2).T,\n",
        "                    np.matrix(v3).T,\n",
        "                    np.matrix(v4).T),\n",
        "                   axis=1)\n",
        "V"
      ],
      "execution_count": 71,
      "outputs": [
        {
          "output_type": "execute_result",
          "data": {
            "text/plain": [
              "matrix([[ 3,  2, -3, -1],\n",
              "        [ 1,  1, -1,  1]])"
            ]
          },
          "metadata": {},
          "execution_count": 71
        }
      ]
    },
    {
      "cell_type": "code",
      "metadata": {
        "colab": {
          "base_uri": "https://localhost:8080/"
        },
        "id": "t3CSo0Hrj3XD",
        "outputId": "dfe43443-eb2f-4c13-c812-410b18c64ecb"
      },
      "source": [
        "IV = np.dot(I, V)\n",
        "IV"
      ],
      "execution_count": 72,
      "outputs": [
        {
          "output_type": "execute_result",
          "data": {
            "text/plain": [
              "matrix([[ 3,  2, -3, -1],\n",
              "        [ 1,  1, -1,  1]])"
            ]
          },
          "metadata": {},
          "execution_count": 72
        }
      ]
    },
    {
      "cell_type": "code",
      "metadata": {
        "colab": {
          "base_uri": "https://localhost:8080/"
        },
        "id": "a6M61JEWj3XE",
        "outputId": "bcf5fb2c-e269-4845-d7de-96edebb8f56f"
      },
      "source": [
        "AV = np.dot(A, V)\n",
        "AV"
      ],
      "execution_count": 73,
      "outputs": [
        {
          "output_type": "execute_result",
          "data": {
            "text/plain": [
              "matrix([[ 1,  2, -1,  5],\n",
              "        [ 4,  2, -4, -4]])"
            ]
          },
          "metadata": {},
          "execution_count": 73
        }
      ]
    },
    {
      "cell_type": "code",
      "metadata": {
        "id": "wGmvjr85j3XG"
      },
      "source": [
        "# function to convert column of matrix to 1D vector:\n",
        "def vectorfy(mtrx, clmn):\n",
        "    return np.array(mtrx[:,clmn]).reshape(-1)"
      ],
      "execution_count": 74,
      "outputs": []
    },
    {
      "cell_type": "code",
      "metadata": {
        "colab": {
          "base_uri": "https://localhost:8080/"
        },
        "id": "L2eQ4w83j3XH",
        "outputId": "565d84a1-1df9-423d-eacf-71b8ff1212f2"
      },
      "source": [
        "vectorfy(V, 0)"
      ],
      "execution_count": 75,
      "outputs": [
        {
          "output_type": "execute_result",
          "data": {
            "text/plain": [
              "array([3, 1])"
            ]
          },
          "metadata": {},
          "execution_count": 75
        }
      ]
    },
    {
      "cell_type": "code",
      "metadata": {
        "colab": {
          "base_uri": "https://localhost:8080/"
        },
        "id": "_o4HOgEwj3XI",
        "outputId": "03331edd-fdfb-406e-f112-37ffa593afa9"
      },
      "source": [
        "vectorfy(V, 0) == v"
      ],
      "execution_count": 76,
      "outputs": [
        {
          "output_type": "execute_result",
          "data": {
            "text/plain": [
              "array([ True,  True])"
            ]
          },
          "metadata": {},
          "execution_count": 76
        }
      ]
    },
    {
      "cell_type": "code",
      "metadata": {
        "colab": {
          "base_uri": "https://localhost:8080/",
          "height": 430
        },
        "id": "btsivNB_j3XK",
        "outputId": "10134b05-9e98-438e-812f-12c0c56f5a31"
      },
      "source": [
        "plot_vectors([vectorfy(V, 0), vectorfy(V, 1), vectorfy(V, 2), vectorfy(V, 3),\n",
        "             vectorfy(AV, 0), vectorfy(AV, 1), vectorfy(AV, 2), vectorfy(AV, 3)],\n",
        "            ['lightblue', 'lightgreen', 'lightgray', 'orange',\n",
        "             'blue', 'green', 'gray', 'red'])\n",
        "plt.xlim(-4, 6)\n",
        "_ = plt.ylim(-5, 5)"
      ],
      "execution_count": 77,
      "outputs": [
        {
          "output_type": "display_data",
          "data": {
            "text/plain": [
              "<Figure size 640x480 with 1 Axes>"
            ],
            "image/png": "[encoded data removed]"
          },
          "metadata": {}
        }
      ]
    },
    {
      "cell_type": "markdown",
      "metadata": {
        "id": "EFTcb9xkf3vT"
      },
      "source": [
        "Now that we can appreciate the linear transformation of vectors by matrices, let's move on to working with eigenvectors and eigenvalues...\n",
        "\n",
        "**Return to slides here.**"
      ]
    },
    {
      "cell_type": "markdown",
      "metadata": {
        "id": "et4bgYFDj3Wr"
      },
      "source": [
        "### Eigenvectors and Eigenvalues"
      ]
    },
    {
      "cell_type": "markdown",
      "metadata": {
        "id": "4n31lIDpj3XL"
      },
      "source": [
        "An **eigenvector** (*eigen* is German for \"typical\"; we could translate *eigenvector* to \"characteristic vector\") is a special vector $v$ such that when it is transformed by some matrix (let's say $A$), the product $Av$ has the exact same direction as $v$.\n",
        "\n",
        "An **eigenvalue** is a scalar (traditionally represented as $\\lambda$) that simply scales the eigenvector $v$ such that the following equation is satisfied:\n",
        "\n",
        "$Av = \\lambda v$"
      ]
    },
    {
      "cell_type": "markdown",
      "metadata": {
        "id": "G7zVjpW-j3XL"
      },
      "source": [
        "Easiest way to understand this is to work through an example:"
      ]
    },
    {
      "cell_type": "code",
      "metadata": {
        "colab": {
          "base_uri": "https://localhost:8080/"
        },
        "id": "GbXJtk1Ej3XL",
        "outputId": "9f255a37-7d4c-423c-9fc2-6ba704ba263b"
      },
      "source": [
        "A"
      ],
      "execution_count": 78,
      "outputs": [
        {
          "output_type": "execute_result",
          "data": {
            "text/plain": [
              "array([[-1,  4],\n",
              "       [ 2, -2]])"
            ]
          },
          "metadata": {},
          "execution_count": 78
        }
      ]
    },
    {
      "cell_type": "markdown",
      "metadata": {
        "id": "0t2JsM6Wj3XN"
      },
      "source": [
        "Eigenvectors and eigenvalues can be derived algebraically (e.g., with the [QR algorithm](https://en.wikipedia.org/wiki/QR_algorithm), which was independently developed in the 1950s by both [Vera Kublanovskaya](https://en.wikipedia.org/wiki/Vera_Kublanovskaya) and John Francis), however this is outside scope of the *ML Foundations* series. We'll cheat with NumPy `eig()` method, which returns a tuple of:\n",
        "\n",
        "* a vector of eigenvalues\n",
        "* a matrix of eigenvectors"
      ]
    },
    {
      "cell_type": "code",
      "metadata": {
        "id": "CYWmgM7jj3XN"
      },
      "source": [
        "lambdas, V = np.linalg.eig(A)"
      ],
      "execution_count": 79,
      "outputs": []
    },
    {
      "cell_type": "markdown",
      "metadata": {
        "id": "OVUp_p6-j3XO"
      },
      "source": [
        "The matrix contains as many eigenvectors as there are columns of A:"
      ]
    },
    {
      "cell_type": "code",
      "metadata": {
        "colab": {
          "base_uri": "https://localhost:8080/"
        },
        "id": "7iHlAMa7j3XO",
        "outputId": "0e5fe277-f2a4-4581-df8a-2d67935b3d32"
      },
      "source": [
        "V # each column is a separate eigenvector v"
      ],
      "execution_count": 80,
      "outputs": [
        {
          "output_type": "execute_result",
          "data": {
            "text/plain": [
              "array([[ 0.86011126, -0.76454754],\n",
              "       [ 0.51010647,  0.64456735]])"
            ]
          },
          "metadata": {},
          "execution_count": 80
        }
      ]
    },
    {
      "cell_type": "markdown",
      "metadata": {
        "id": "EBSmc2JLj3XP"
      },
      "source": [
        "With a corresponding eigenvalue for each eigenvector:"
      ]
    },
    {
      "cell_type": "code",
      "metadata": {
        "colab": {
          "base_uri": "https://localhost:8080/"
        },
        "id": "QYJbCydNj3XP",
        "outputId": "588cc1a8-2757-414a-9d40-71b92d0f895b"
      },
      "source": [
        "lambdas"
      ],
      "execution_count": 81,
      "outputs": [
        {
          "output_type": "execute_result",
          "data": {
            "text/plain": [
              "array([ 1.37228132, -4.37228132])"
            ]
          },
          "metadata": {},
          "execution_count": 81
        }
      ]
    },
    {
      "cell_type": "markdown",
      "metadata": {
        "id": "OoZPiaBMj3XR"
      },
      "source": [
        "Let's confirm that $Av = \\lambda v$ for the first eigenvector:"
      ]
    },
    {
      "cell_type": "code",
      "metadata": {
        "colab": {
          "base_uri": "https://localhost:8080/"
        },
        "id": "n1QZ57TJj3XR",
        "outputId": "0244fe3e-fdc4-402f-dfcb-baecff094aee"
      },
      "source": [
        "v = V[:,0]\n",
        "v"
      ],
      "execution_count": 82,
      "outputs": [
        {
          "output_type": "execute_result",
          "data": {
            "text/plain": [
              "array([0.86011126, 0.51010647])"
            ]
          },
          "metadata": {},
          "execution_count": 82
        }
      ]
    },
    {
      "cell_type": "code",
      "metadata": {
        "colab": {
          "base_uri": "https://localhost:8080/"
        },
        "id": "6vwkWMiIj3XV",
        "outputId": "e93def02-f10e-4e2b-e2c2-dcf36dca41bc"
      },
      "source": [
        "lambduh = lambdas[0] # note that \"lambda\" is reserved term in Python\n",
        "lambduh"
      ],
      "execution_count": 83,
      "outputs": [
        {
          "output_type": "execute_result",
          "data": {
            "text/plain": [
              "np.float64(1.3722813232690143)"
            ]
          },
          "metadata": {},
          "execution_count": 83
        }
      ]
    },
    {
      "cell_type": "code",
      "metadata": {
        "colab": {
          "base_uri": "https://localhost:8080/"
        },
        "id": "Leh9n8QBj3XW",
        "outputId": "05dd9329-d0bc-4cbd-983a-5029878b8af7"
      },
      "source": [
        "Av = np.dot(A, v)\n",
        "Av"
      ],
      "execution_count": 84,
      "outputs": [
        {
          "output_type": "execute_result",
          "data": {
            "text/plain": [
              "array([1.18031462, 0.70000958])"
            ]
          },
          "metadata": {},
          "execution_count": 84
        }
      ]
    },
    {
      "cell_type": "code",
      "metadata": {
        "colab": {
          "base_uri": "https://localhost:8080/"
        },
        "id": "PROIJU30j3XX",
        "outputId": "257c9ae6-3694-48a4-d489-f5b4b9ff8fc2"
      },
      "source": [
        "lambduh * v"
      ],
      "execution_count": 85,
      "outputs": [
        {
          "output_type": "execute_result",
          "data": {
            "text/plain": [
              "array([1.18031462, 0.70000958])"
            ]
          },
          "metadata": {},
          "execution_count": 85
        }
      ]
    },
    {
      "cell_type": "code",
      "metadata": {
        "colab": {
          "base_uri": "https://localhost:8080/",
          "height": 435
        },
        "id": "0bT3vjoQj3XY",
        "outputId": "ba176dcc-f91e-4e03-e154-95fab53d8879"
      },
      "source": [
        "plot_vectors([Av, v], ['blue', 'lightblue'])\n",
        "plt.xlim(-1, 2)\n",
        "_ = plt.ylim(-1, 2)"
      ],
      "execution_count": 86,
      "outputs": [
        {
          "output_type": "display_data",
          "data": {
            "text/plain": [
              "<Figure size 640x480 with 1 Axes>"
            ],
            "image/png": "[encoded data removed]"
          },
          "metadata": {}
        }
      ]
    },
    {
      "cell_type": "markdown",
      "metadata": {
        "id": "tKQI4691j3XZ"
      },
      "source": [
        "And again for the second eigenvector of A:"
      ]
    },
    {
      "cell_type": "code",
      "metadata": {
        "colab": {
          "base_uri": "https://localhost:8080/"
        },
        "id": "riOJuqz3j3XZ",
        "outputId": "9d1d57b4-93a7-4557-a763-d3b221685d3c"
      },
      "source": [
        "v2 = V[:,1]\n",
        "v2"
      ],
      "execution_count": 87,
      "outputs": [
        {
          "output_type": "execute_result",
          "data": {
            "text/plain": [
              "array([-0.76454754,  0.64456735])"
            ]
          },
          "metadata": {},
          "execution_count": 87
        }
      ]
    },
    {
      "cell_type": "code",
      "metadata": {
        "colab": {
          "base_uri": "https://localhost:8080/"
        },
        "id": "QveeHYhDj3Xa",
        "outputId": "8a8bd925-f242-4ae2-c567-589d9b176f35"
      },
      "source": [
        "lambda2 = lambdas[1]\n",
        "lambda2"
      ],
      "execution_count": 88,
      "outputs": [
        {
          "output_type": "execute_result",
          "data": {
            "text/plain": [
              "np.float64(-4.372281323269014)"
            ]
          },
          "metadata": {},
          "execution_count": 88
        }
      ]
    },
    {
      "cell_type": "code",
      "metadata": {
        "colab": {
          "base_uri": "https://localhost:8080/"
        },
        "id": "TDk1VoVIj3Xb",
        "outputId": "7b7fc652-0917-48b5-885a-de4a1cc91c25"
      },
      "source": [
        "Av2 = np.dot(A, v2)\n",
        "Av2"
      ],
      "execution_count": 89,
      "outputs": [
        {
          "output_type": "execute_result",
          "data": {
            "text/plain": [
              "array([ 3.34281692, -2.81822977])"
            ]
          },
          "metadata": {},
          "execution_count": 89
        }
      ]
    },
    {
      "cell_type": "code",
      "metadata": {
        "colab": {
          "base_uri": "https://localhost:8080/"
        },
        "id": "smlYxxgpj3Xc",
        "outputId": "8f55e55d-8d00-4cb6-ae1f-1d31f88f0df7"
      },
      "source": [
        "lambda2 * v2"
      ],
      "execution_count": 90,
      "outputs": [
        {
          "output_type": "execute_result",
          "data": {
            "text/plain": [
              "array([ 3.34281692, -2.81822977])"
            ]
          },
          "metadata": {},
          "execution_count": 90
        }
      ]
    },
    {
      "cell_type": "code",
      "metadata": {
        "colab": {
          "base_uri": "https://localhost:8080/",
          "height": 435
        },
        "id": "3IigKHp0j3Xd",
        "outputId": "dd344f43-f19f-4a04-8dfa-435c2dc65ce2"
      },
      "source": [
        "plot_vectors([Av, v, Av2, v2],\n",
        "            ['blue', 'lightblue', 'green', 'lightgreen'])\n",
        "plt.xlim(-1, 4)\n",
        "_ = plt.ylim(-3, 2)"
      ],
      "execution_count": 91,
      "outputs": [
        {
          "output_type": "display_data",
          "data": {
            "text/plain": [
              "<Figure size 640x480 with 1 Axes>"
            ],
            "image/png": "[encoded data removed]"
          },
          "metadata": {}
        }
      ]
    },
    {
      "cell_type": "markdown",
      "metadata": {
        "id": "VF9uLWjOj3Xe"
      },
      "source": [
        "Using the PyTorch `eig()` method, we can do exactly the same:"
      ]
    },
    {
      "cell_type": "code",
      "metadata": {
        "colab": {
          "base_uri": "https://localhost:8080/"
        },
        "id": "EcJa6w0mj3Xe",
        "outputId": "b4c5933c-36b7-49b8-c4cf-1b9f74b13b7a"
      },
      "source": [
        "A"
      ],
      "execution_count": 92,
      "outputs": [
        {
          "output_type": "execute_result",
          "data": {
            "text/plain": [
              "array([[-1,  4],\n",
              "       [ 2, -2]])"
            ]
          },
          "metadata": {},
          "execution_count": 92
        }
      ]
    },
    {
      "cell_type": "code",
      "metadata": {
        "colab": {
          "base_uri": "https://localhost:8080/"
        },
        "id": "9WvCqoRij3Xf",
        "outputId": "18c1b842-a651-4312-d764-8e091c189963"
      },
      "source": [
        "A_p = torch.tensor([[-1, 4], [2, -2.]]) # must be float for PyTorch eig()\n",
        "A_p"
      ],
      "execution_count": 93,
      "outputs": [
        {
          "output_type": "execute_result",
          "data": {
            "text/plain": [
              "tensor([[-1.,  4.],\n",
              "        [ 2., -2.]])"
            ]
          },
          "metadata": {},
          "execution_count": 93
        }
      ]
    },
    {
      "cell_type": "code",
      "metadata": {
        "id": "TE1W1lykjHfW"
      },
      "source": [
        "lambdas_cplx, V_cplx = torch.linalg.eig(A_p) # outputs complex numbers because real matrices can have complex eigenvectors"
      ],
      "execution_count": 94,
      "outputs": []
    },
    {
      "cell_type": "code",
      "metadata": {
        "id": "lEIkBb8OjhTk",
        "outputId": "0bb7933b-d7be-4426-d4ef-9f24265e9d36",
        "colab": {
          "base_uri": "https://localhost:8080/"
        }
      },
      "source": [
        "V_cplx # complex-typed values with \"0.j\" imaginary part are in fact real numbers"
      ],
      "execution_count": 95,
      "outputs": [
        {
          "output_type": "execute_result",
          "data": {
            "text/plain": [
              "tensor([[ 0.8601+0.j, -0.7645+0.j],\n",
              "        [ 0.5101+0.j,  0.6446+0.j]])"
            ]
          },
          "metadata": {},
          "execution_count": 95
        }
      ]
    },
    {
      "cell_type": "code",
      "metadata": {
        "id": "ycqfObc1pyca",
        "outputId": "96c68ec8-aa58-4b89-ef95-93de238740ac",
        "colab": {
          "base_uri": "https://localhost:8080/"
        }
      },
      "source": [
        "V_p = V_cplx.float()\n",
        "V_p"
      ],
      "execution_count": 96,
      "outputs": [
        {
          "output_type": "stream",
          "name": "stderr",
          "text": [
            "<ipython-input-96-1096125134>:1: UserWarning: Casting complex values to real discards the imaginary part (Triggered internally at /pytorch/aten/src/ATen/native/Copy.cpp:308.)\n",
            "  V_p = V_cplx.float()\n"
          ]
        },
        {
          "output_type": "execute_result",
          "data": {
            "text/plain": [
              "tensor([[ 0.8601, -0.7645],\n",
              "        [ 0.5101,  0.6446]])"
            ]
          },
          "metadata": {},
          "execution_count": 96
        }
      ]
    },
    {
      "cell_type": "code",
      "metadata": {
        "id": "h9_Ri5MGntlz",
        "outputId": "f691eb9f-8ece-4ec0-c7bf-70117cf99bba",
        "colab": {
          "base_uri": "https://localhost:8080/"
        }
      },
      "source": [
        "v_p = V_p[:,0]\n",
        "v_p"
      ],
      "execution_count": 97,
      "outputs": [
        {
          "output_type": "execute_result",
          "data": {
            "text/plain": [
              "tensor([0.8601, 0.5101])"
            ]
          },
          "metadata": {},
          "execution_count": 97
        }
      ]
    },
    {
      "cell_type": "code",
      "metadata": {
        "id": "cnjVvGxEqHM6",
        "outputId": "ac2c8d55-75d4-49f9-8b46-79f5402c17d2",
        "colab": {
          "base_uri": "https://localhost:8080/"
        }
      },
      "source": [
        "lambdas_cplx"
      ],
      "execution_count": 98,
      "outputs": [
        {
          "output_type": "execute_result",
          "data": {
            "text/plain": [
              "tensor([ 1.3723+0.j, -4.3723+0.j])"
            ]
          },
          "metadata": {},
          "execution_count": 98
        }
      ]
    },
    {
      "cell_type": "code",
      "metadata": {
        "id": "_7bIBSQuoGVk",
        "outputId": "7203a302-22ec-49b2-a080-040550a5fd68",
        "colab": {
          "base_uri": "https://localhost:8080/"
        }
      },
      "source": [
        "lambdas_p = lambdas_cplx.float()\n",
        "lambdas_p"
      ],
      "execution_count": 99,
      "outputs": [
        {
          "output_type": "execute_result",
          "data": {
            "text/plain": [
              "tensor([ 1.3723, -4.3723])"
            ]
          },
          "metadata": {},
          "execution_count": 99
        }
      ]
    },
    {
      "cell_type": "code",
      "metadata": {
        "colab": {
          "base_uri": "https://localhost:8080/"
        },
        "id": "VrYaxNCRj3Xj",
        "outputId": "dc7c8104-4279-4475-c954-54bded111abb"
      },
      "source": [
        "lambda_p = lambdas_p[0]\n",
        "lambda_p"
      ],
      "execution_count": 100,
      "outputs": [
        {
          "output_type": "execute_result",
          "data": {
            "text/plain": [
              "tensor(1.3723)"
            ]
          },
          "metadata": {},
          "execution_count": 100
        }
      ]
    },
    {
      "cell_type": "code",
      "metadata": {
        "colab": {
          "base_uri": "https://localhost:8080/"
        },
        "id": "SUq1UGH7j3Xl",
        "outputId": "310fdb60-796c-4883-fa76-133cf85bd023"
      },
      "source": [
        "Av_p = torch.matmul(A_p, v_p) # matmul() expects float-typed tensors\n",
        "Av_p"
      ],
      "execution_count": 101,
      "outputs": [
        {
          "output_type": "execute_result",
          "data": {
            "text/plain": [
              "tensor([1.1803, 0.7000])"
            ]
          },
          "metadata": {},
          "execution_count": 101
        }
      ]
    },
    {
      "cell_type": "code",
      "metadata": {
        "colab": {
          "base_uri": "https://localhost:8080/"
        },
        "id": "co1VNLIej3Xn",
        "outputId": "03305ac0-80c7-406c-e4c6-34a156708334"
      },
      "source": [
        "lambda_p * v_p"
      ],
      "execution_count": 102,
      "outputs": [
        {
          "output_type": "execute_result",
          "data": {
            "text/plain": [
              "tensor([1.1803, 0.7000])"
            ]
          },
          "metadata": {},
          "execution_count": 102
        }
      ]
    },
    {
      "cell_type": "code",
      "metadata": {
        "colab": {
          "base_uri": "https://localhost:8080/"
        },
        "id": "1b47vG92j3Xo",
        "outputId": "127a7d2b-d3e1-4422-8ddc-a704e49cf82f"
      },
      "source": [
        "v2_p = V_p[:,1]\n",
        "v2_p"
      ],
      "execution_count": 103,
      "outputs": [
        {
          "output_type": "execute_result",
          "data": {
            "text/plain": [
              "tensor([-0.7645,  0.6446])"
            ]
          },
          "metadata": {},
          "execution_count": 103
        }
      ]
    },
    {
      "cell_type": "code",
      "metadata": {
        "colab": {
          "base_uri": "https://localhost:8080/"
        },
        "id": "B-evpW17j3Xp",
        "outputId": "b62cfae3-7c86-4f7c-c7ac-0e34e3d6b76d"
      },
      "source": [
        "lambda2_p = lambdas_p[1]\n",
        "lambda2_p"
      ],
      "execution_count": 104,
      "outputs": [
        {
          "output_type": "execute_result",
          "data": {
            "text/plain": [
              "tensor(-4.3723)"
            ]
          },
          "metadata": {},
          "execution_count": 104
        }
      ]
    },
    {
      "cell_type": "code",
      "metadata": {
        "colab": {
          "base_uri": "https://localhost:8080/"
        },
        "id": "2d5gjh2sj3Xq",
        "outputId": "cfb44686-cd25-4968-c195-6bfebc65e32a"
      },
      "source": [
        "Av2_p = torch.matmul(A_p.float(), v2_p.float())\n",
        "Av2_p"
      ],
      "execution_count": 105,
      "outputs": [
        {
          "output_type": "execute_result",
          "data": {
            "text/plain": [
              "tensor([ 3.3428, -2.8182])"
            ]
          },
          "metadata": {},
          "execution_count": 105
        }
      ]
    },
    {
      "cell_type": "code",
      "metadata": {
        "colab": {
          "base_uri": "https://localhost:8080/"
        },
        "id": "8-ki3i8dj3Xr",
        "outputId": "921c2892-a79a-4c1c-c6da-792f50dd1adc"
      },
      "source": [
        "lambda2_p.float() * v2_p.float()"
      ],
      "execution_count": 106,
      "outputs": [
        {
          "output_type": "execute_result",
          "data": {
            "text/plain": [
              "tensor([ 3.3428, -2.8182])"
            ]
          },
          "metadata": {},
          "execution_count": 106
        }
      ]
    },
    {
      "cell_type": "code",
      "metadata": {
        "colab": {
          "base_uri": "https://localhost:8080/",
          "height": 435
        },
        "id": "s2p8yb_Zj3Xs",
        "outputId": "fcb7d1fc-55d7-483c-b8f7-aa140ce8a111"
      },
      "source": [
        "plot_vectors([Av_p.numpy(), v_p.numpy(), Av2_p.numpy(), v2_p.numpy()],\n",
        "            ['blue', 'lightblue', 'green', 'lightgreen'])\n",
        "plt.xlim(-1, 4)\n",
        "_ = plt.ylim(-3, 2)"
      ],
      "execution_count": 107,
      "outputs": [
        {
          "output_type": "display_data",
          "data": {
            "text/plain": [
              "<Figure size 640x480 with 1 Axes>"
            ],
            "image/png": "[encoded data removed]"
          },
          "metadata": {}
        }
      ]
    },
    {
      "cell_type": "markdown",
      "metadata": {
        "id": "6-HqwyESj3Xt"
      },
      "source": [
        "### Eigenvectors in >2 Dimensions"
      ]
    },
    {
      "cell_type": "markdown",
      "metadata": {
        "id": "M01JPwToj3Xt"
      },
      "source": [
        "While plotting gets trickier in higher-dimensional spaces, we can nevertheless find and use eigenvectors with more than two dimensions. Here's a 3D example (there are three dimensions handled over three rows):"
      ]
    },
    {
      "cell_type": "code",
      "metadata": {
        "colab": {
          "base_uri": "https://localhost:8080/"
        },
        "id": "HWsBDEMgj3Xt",
        "outputId": "ffcb2f79-c85a-47a2-ef03-c53207c3cacc"
      },
      "source": [
        "X = np.array([[25, 2, 9], [5, 26, -5], [3, 7, -1]])\n",
        "X"
      ],
      "execution_count": 108,
      "outputs": [
        {
          "output_type": "execute_result",
          "data": {
            "text/plain": [
              "array([[25,  2,  9],\n",
              "       [ 5, 26, -5],\n",
              "       [ 3,  7, -1]])"
            ]
          },
          "metadata": {},
          "execution_count": 108
        }
      ]
    },
    {
      "cell_type": "code",
      "metadata": {
        "id": "Y-uUMyRFj3Xv"
      },
      "source": [
        "lambdas_X, V_X = np.linalg.eig(X)"
      ],
      "execution_count": 109,
      "outputs": []
    },
    {
      "cell_type": "code",
      "metadata": {
        "colab": {
          "base_uri": "https://localhost:8080/"
        },
        "id": "virh7GVFj3Xw",
        "outputId": "9a9735d0-188c-443b-c5d2-0b57c1729cad"
      },
      "source": [
        "V_X # one eigenvector per column of X"
      ],
      "execution_count": 110,
      "outputs": [
        {
          "output_type": "execute_result",
          "data": {
            "text/plain": [
              "array([[-0.71175736, -0.6501921 , -0.34220476],\n",
              "       [-0.66652125,  0.74464056,  0.23789717],\n",
              "       [-0.22170001,  0.15086635,  0.90901091]])"
            ]
          },
          "metadata": {},
          "execution_count": 110
        }
      ]
    },
    {
      "cell_type": "code",
      "metadata": {
        "colab": {
          "base_uri": "https://localhost:8080/"
        },
        "id": "9yHkmEd0j3Xw",
        "outputId": "b9d8bed6-5004-403e-fe6d-57946039c945"
      },
      "source": [
        "lambdas_X # a corresponding eigenvalue for each eigenvector"
      ],
      "execution_count": 111,
      "outputs": [
        {
          "output_type": "execute_result",
          "data": {
            "text/plain": [
              "array([29.67623202, 20.62117365, -0.29740567])"
            ]
          },
          "metadata": {},
          "execution_count": 111
        }
      ]
    },
    {
      "cell_type": "markdown",
      "metadata": {
        "id": "Qp3qPeUxj3Xy"
      },
      "source": [
        "Confirm $Xv = \\lambda v$ for an example eigenvector:"
      ]
    },
    {
      "cell_type": "code",
      "metadata": {
        "colab": {
          "base_uri": "https://localhost:8080/"
        },
        "id": "dUEfbThhj3Xy",
        "outputId": "822fa0b1-ad03-49fe-e44f-794b7e706854"
      },
      "source": [
        "v_X = V_X[:,0]\n",
        "v_X"
      ],
      "execution_count": 112,
      "outputs": [
        {
          "output_type": "execute_result",
          "data": {
            "text/plain": [
              "array([-0.71175736, -0.66652125, -0.22170001])"
            ]
          },
          "metadata": {},
          "execution_count": 112
        }
      ]
    },
    {
      "cell_type": "code",
      "metadata": {
        "colab": {
          "base_uri": "https://localhost:8080/"
        },
        "id": "xhnF5asDj3X0",
        "outputId": "a8a6c2a0-1ee9-4c50-9cdf-6d175d69d43b"
      },
      "source": [
        "lambda_X = lambdas_X[0]\n",
        "lambda_X"
      ],
      "execution_count": 113,
      "outputs": [
        {
          "output_type": "execute_result",
          "data": {
            "text/plain": [
              "np.float64(29.676232023948902)"
            ]
          },
          "metadata": {},
          "execution_count": 113
        }
      ]
    },
    {
      "cell_type": "code",
      "metadata": {
        "colab": {
          "base_uri": "https://localhost:8080/"
        },
        "id": "K3bA6vRzj3X1",
        "outputId": "99f1dca6-0596-4a10-acfb-59efef192963"
      },
      "source": [
        "np.dot(X, v_X) # matrix multiplication"
      ],
      "execution_count": 114,
      "outputs": [
        {
          "output_type": "execute_result",
          "data": {
            "text/plain": [
              "array([-21.12227645, -19.77983919,  -6.5792208 ])"
            ]
          },
          "metadata": {},
          "execution_count": 114
        }
      ]
    },
    {
      "cell_type": "code",
      "metadata": {
        "colab": {
          "base_uri": "https://localhost:8080/"
        },
        "id": "UfN3hk0Gj3X2",
        "outputId": "43ec59d2-e831-4c10-a476-c7a8c370aa47"
      },
      "source": [
        "lambda_X * v_X"
      ],
      "execution_count": 115,
      "outputs": [
        {
          "output_type": "execute_result",
          "data": {
            "text/plain": [
              "array([-21.12227645, -19.77983919,  -6.5792208 ])"
            ]
          },
          "metadata": {},
          "execution_count": 115
        }
      ]
    },
    {
      "cell_type": "markdown",
      "metadata": {
        "id": "VcjTZv24j3X3"
      },
      "source": [
        "**Exercises**:\n",
        "\n",
        "1. Use PyTorch to confirm $Xv = \\lambda v$ for the first eigenvector of $X$.\n",
        "2. Confirm $Xv = \\lambda v$ for the remaining eigenvectors of $X$ (you can use NumPy or PyTorch, whichever you prefer)."
      ]
    },
    {
      "cell_type": "markdown",
      "metadata": {
        "id": "5z5AdeHKj3X4"
      },
      "source": [
        "**Return to slides here.**"
      ]
    },
    {
      "cell_type": "markdown",
      "metadata": {
        "id": "F44cMjS8j3Wc"
      },
      "source": [
        "### 2x2 Matrix Determinants"
      ]
    },
    {
      "cell_type": "code",
      "metadata": {
        "colab": {
          "base_uri": "https://localhost:8080/"
        },
        "id": "GjsXPZEsj3Wc",
        "outputId": "8f55fffe-c562-4091-9d12-bd8218d710e9"
      },
      "source": [
        "X = np.array([[4, 2], [-5, -3]])\n",
        "X"
      ],
      "execution_count": 116,
      "outputs": [
        {
          "output_type": "execute_result",
          "data": {
            "text/plain": [
              "array([[ 4,  2],\n",
              "       [-5, -3]])"
            ]
          },
          "metadata": {},
          "execution_count": 116
        }
      ]
    },
    {
      "cell_type": "code",
      "metadata": {
        "colab": {
          "base_uri": "https://localhost:8080/"
        },
        "id": "4tg8BDzOj3We",
        "outputId": "9ad00555-3f94-4491-8a96-22dc3950ad61"
      },
      "source": [
        "np.linalg.det(X)"
      ],
      "execution_count": 117,
      "outputs": [
        {
          "output_type": "execute_result",
          "data": {
            "text/plain": [
              "np.float64(-2.0000000000000013)"
            ]
          },
          "metadata": {},
          "execution_count": 117
        }
      ]
    },
    {
      "cell_type": "markdown",
      "metadata": {
        "id": "87wpY5hUj3Wg"
      },
      "source": [
        "**Return to slides here.**"
      ]
    },
    {
      "cell_type": "code",
      "metadata": {
        "colab": {
          "base_uri": "https://localhost:8080/"
        },
        "id": "o5jp6vkNj3Wg",
        "outputId": "623ca3df-bc8c-4566-f898-fab866ef41cc"
      },
      "source": [
        "N = np.array([[-4, 1], [-8, 2]])\n",
        "N"
      ],
      "execution_count": 118,
      "outputs": [
        {
          "output_type": "execute_result",
          "data": {
            "text/plain": [
              "array([[-4,  1],\n",
              "       [-8,  2]])"
            ]
          },
          "metadata": {},
          "execution_count": 118
        }
      ]
    },
    {
      "cell_type": "code",
      "metadata": {
        "colab": {
          "base_uri": "https://localhost:8080/"
        },
        "id": "ejdkdN7Lj3Wi",
        "outputId": "0708c8be-8bab-4cb0-e23d-24969e69f29a"
      },
      "source": [
        "np.linalg.det(N)"
      ],
      "execution_count": 119,
      "outputs": [
        {
          "output_type": "execute_result",
          "data": {
            "text/plain": [
              "np.float64(0.0)"
            ]
          },
          "metadata": {},
          "execution_count": 119
        }
      ]
    },
    {
      "cell_type": "code",
      "metadata": {
        "id": "nbIrtcaCj3Wj",
        "outputId": "79ee8b37-5c1a-4a91-fae3-a2f38b4e4f80",
        "colab": {
          "base_uri": "https://localhost:8080/",
          "height": 304
        }
      },
      "source": [
        "# Uncommenting the following line results in a \"singular matrix\" error\n",
        "Ninv = np.linalg.inv(N)"
      ],
      "execution_count": 126,
      "outputs": [
        {
          "output_type": "error",
          "ename": "LinAlgError",
          "evalue": "Singular matrix",
          "traceback": [
            "\u001b[0;31m---------------------------------------------------------------------------\u001b[0m",
            "\u001b[0;31mLinAlgError\u001b[0m                               Traceback (most recent call last)",
            "\u001b[0;32m<ipython-input-126-813689951>\u001b[0m in \u001b[0;36m<cell line: 0>\u001b[0;34m()\u001b[0m\n\u001b[1;32m      1\u001b[0m \u001b[0;31m# Uncommenting the following line results in a \"singular matrix\" error\u001b[0m\u001b[0;34m\u001b[0m\u001b[0;34m\u001b[0m\u001b[0m\n\u001b[0;32m----> 2\u001b[0;31m \u001b[0mNinv\u001b[0m \u001b[0;34m=\u001b[0m \u001b[0mnp\u001b[0m\u001b[0;34m.\u001b[0m\u001b[0mlinalg\u001b[0m\u001b[0;34m.\u001b[0m\u001b[0minv\u001b[0m\u001b[0;34m(\u001b[0m\u001b[0mN\u001b[0m\u001b[0;34m)\u001b[0m\u001b[0;34m\u001b[0m\u001b[0;34m\u001b[0m\u001b[0m\n\u001b[0m",
            "\u001b[0;32m/usr/local/lib/python3.11/dist-packages/numpy/linalg/_linalg.py\u001b[0m in \u001b[0;36minv\u001b[0;34m(a)\u001b[0m\n\u001b[1;32m    606\u001b[0m     with errstate(call=_raise_linalgerror_singular, invalid='call',\n\u001b[1;32m    607\u001b[0m                   over='ignore', divide='ignore', under='ignore'):\n\u001b[0;32m--> 608\u001b[0;31m         \u001b[0mainv\u001b[0m \u001b[0;34m=\u001b[0m \u001b[0m_umath_linalg\u001b[0m\u001b[0;34m.\u001b[0m\u001b[0minv\u001b[0m\u001b[0;34m(\u001b[0m\u001b[0ma\u001b[0m\u001b[0;34m,\u001b[0m \u001b[0msignature\u001b[0m\u001b[0;34m=\u001b[0m\u001b[0msignature\u001b[0m\u001b[0;34m)\u001b[0m\u001b[0;34m\u001b[0m\u001b[0;34m\u001b[0m\u001b[0m\n\u001b[0m\u001b[1;32m    609\u001b[0m     \u001b[0;32mreturn\u001b[0m \u001b[0mwrap\u001b[0m\u001b[0;34m(\u001b[0m\u001b[0mainv\u001b[0m\u001b[0;34m.\u001b[0m\u001b[0mastype\u001b[0m\u001b[0;34m(\u001b[0m\u001b[0mresult_t\u001b[0m\u001b[0;34m,\u001b[0m \u001b[0mcopy\u001b[0m\u001b[0;34m=\u001b[0m\u001b[0;32mFalse\u001b[0m\u001b[0;34m)\u001b[0m\u001b[0;34m)\u001b[0m\u001b[0;34m\u001b[0m\u001b[0;34m\u001b[0m\u001b[0m\n\u001b[1;32m    610\u001b[0m \u001b[0;34m\u001b[0m\u001b[0m\n",
            "\u001b[0;32m/usr/local/lib/python3.11/dist-packages/numpy/linalg/_linalg.py\u001b[0m in \u001b[0;36m_raise_linalgerror_singular\u001b[0;34m(err, flag)\u001b[0m\n\u001b[1;32m    102\u001b[0m \u001b[0;34m\u001b[0m\u001b[0m\n\u001b[1;32m    103\u001b[0m \u001b[0;32mdef\u001b[0m \u001b[0m_raise_linalgerror_singular\u001b[0m\u001b[0;34m(\u001b[0m\u001b[0merr\u001b[0m\u001b[0;34m,\u001b[0m \u001b[0mflag\u001b[0m\u001b[0;34m)\u001b[0m\u001b[0;34m:\u001b[0m\u001b[0;34m\u001b[0m\u001b[0;34m\u001b[0m\u001b[0m\n\u001b[0;32m--> 104\u001b[0;31m     \u001b[0;32mraise\u001b[0m \u001b[0mLinAlgError\u001b[0m\u001b[0;34m(\u001b[0m\u001b[0;34m\"Singular matrix\"\u001b[0m\u001b[0;34m)\u001b[0m\u001b[0;34m\u001b[0m\u001b[0;34m\u001b[0m\u001b[0m\n\u001b[0m\u001b[1;32m    105\u001b[0m \u001b[0;34m\u001b[0m\u001b[0m\n\u001b[1;32m    106\u001b[0m \u001b[0;32mdef\u001b[0m \u001b[0m_raise_linalgerror_nonposdef\u001b[0m\u001b[0;34m(\u001b[0m\u001b[0merr\u001b[0m\u001b[0;34m,\u001b[0m \u001b[0mflag\u001b[0m\u001b[0;34m)\u001b[0m\u001b[0;34m:\u001b[0m\u001b[0;34m\u001b[0m\u001b[0;34m\u001b[0m\u001b[0m\n",
            "\u001b[0;31mLinAlgError\u001b[0m: Singular matrix"
          ]
        }
      ]
    },
    {
      "cell_type": "code",
      "metadata": {
        "id": "kBT5VC5Nj3Wl"
      },
      "source": [
        "N = torch.tensor([[-4, 1], [-8, 2.]]) # must use float not int"
      ],
      "execution_count": 121,
      "outputs": []
    },
    {
      "cell_type": "code",
      "metadata": {
        "colab": {
          "base_uri": "https://localhost:8080/"
        },
        "id": "MQA5g0gGj3Wm",
        "outputId": "e2e52282-3e1d-438c-b2bb-e89aa8efc7c8"
      },
      "source": [
        "torch.det(N)"
      ],
      "execution_count": 122,
      "outputs": [
        {
          "output_type": "execute_result",
          "data": {
            "text/plain": [
              "tensor(-0.)"
            ]
          },
          "metadata": {},
          "execution_count": 122
        }
      ]
    },
    {
      "cell_type": "markdown",
      "metadata": {
        "id": "XBIJB7tfj3Wn"
      },
      "source": [
        "**Return to slides here.**"
      ]
    },
    {
      "cell_type": "markdown",
      "metadata": {
        "id": "rwwoY1k6j3Wn"
      },
      "source": [
        "### Generalizing Determinants"
      ]
    },
    {
      "cell_type": "code",
      "metadata": {
        "colab": {
          "base_uri": "https://localhost:8080/"
        },
        "id": "bqjRKaCaj3Wn",
        "outputId": "cfc6de44-ed24-493c-9a33-c4793f7e8c08"
      },
      "source": [
        "X = np.array([[1, 2, 4], [2, -1, 3], [0, 5, 1]])\n",
        "X"
      ],
      "execution_count": 127,
      "outputs": [
        {
          "output_type": "execute_result",
          "data": {
            "text/plain": [
              "array([[ 1,  2,  4],\n",
              "       [ 2, -1,  3],\n",
              "       [ 0,  5,  1]])"
            ]
          },
          "metadata": {},
          "execution_count": 127
        }
      ]
    },
    {
      "cell_type": "code",
      "metadata": {
        "colab": {
          "base_uri": "https://localhost:8080/"
        },
        "id": "uimvv39Nj3Wp",
        "outputId": "7c576d86-b58f-4bdc-96d1-c68ec7408d3f"
      },
      "source": [
        "np.linalg.det(X)"
      ],
      "execution_count": 128,
      "outputs": [
        {
          "output_type": "execute_result",
          "data": {
            "text/plain": [
              "np.float64(19.999999999999996)"
            ]
          },
          "metadata": {},
          "execution_count": 128
        }
      ]
    },
    {
      "cell_type": "markdown",
      "metadata": {
        "id": "hQEG5ad1rmr2"
      },
      "source": [
        "**Return to slides here.**"
      ]
    },
    {
      "cell_type": "markdown",
      "metadata": {
        "id": "d2MIHl4MLWw0"
      },
      "source": [
        "### Determinants & Eigenvalues"
      ]
    },
    {
      "cell_type": "code",
      "metadata": {
        "colab": {
          "base_uri": "https://localhost:8080/"
        },
        "id": "g0uEEY2qj3X6",
        "outputId": "e40c9710-eb79-4148-d378-ee1ede76d559"
      },
      "source": [
        "lambdas, V = np.linalg.eig(X)\n",
        "lambdas"
      ],
      "execution_count": 129,
      "outputs": [
        {
          "output_type": "execute_result",
          "data": {
            "text/plain": [
              "array([-3.25599251, -1.13863631,  5.39462882])"
            ]
          },
          "metadata": {},
          "execution_count": 129
        }
      ]
    },
    {
      "cell_type": "code",
      "metadata": {
        "colab": {
          "base_uri": "https://localhost:8080/"
        },
        "id": "41P8dP9Gj3X8",
        "outputId": "332f2935-d66f-4349-c9f4-8fcdc39b6153"
      },
      "source": [
        "np.prod(lambdas)"
      ],
      "execution_count": 133,
      "outputs": [
        {
          "output_type": "execute_result",
          "data": {
            "text/plain": [
              "np.float64(19.99999999999999)"
            ]
          },
          "metadata": {},
          "execution_count": 133
        }
      ]
    },
    {
      "cell_type": "markdown",
      "metadata": {
        "id": "Rf83gqIULWw2"
      },
      "source": [
        "**Return to slides here.**"
      ]
    },
    {
      "cell_type": "markdown",
      "metadata": {
        "id": "6zNOgq7I62YA"
      },
      "source": [
        "Here's $|\\text{det}(X)|$ in NumPy:"
      ]
    },
    {
      "cell_type": "code",
      "metadata": {
        "colab": {
          "base_uri": "https://localhost:8080/"
        },
        "id": "a7Bleu07j3X-",
        "outputId": "26d7280f-2e23-47d6-fbff-10db72a0fcc8"
      },
      "source": [
        "np.abs(np.linalg.det(X))"
      ],
      "execution_count": 134,
      "outputs": [
        {
          "output_type": "execute_result",
          "data": {
            "text/plain": [
              "np.float64(19.999999999999996)"
            ]
          },
          "metadata": {},
          "execution_count": 134
        }
      ]
    },
    {
      "cell_type": "markdown",
      "metadata": {
        "id": "KZQaYZ0q7Zn2"
      },
      "source": [
        "Let's use a matrix $B$, which is composed of basis vectors, to explore the impact of applying matrices with varying $|\\text{det}(X)|$ values:"
      ]
    },
    {
      "cell_type": "code",
      "metadata": {
        "colab": {
          "base_uri": "https://localhost:8080/"
        },
        "id": "rMPe8LOXj3X_",
        "outputId": "747b338c-1423-4600-8065-8cfddb698c9c"
      },
      "source": [
        "B = np.array([[1, 0], [0, 1]])\n",
        "B"
      ],
      "execution_count": 135,
      "outputs": [
        {
          "output_type": "execute_result",
          "data": {
            "text/plain": [
              "array([[1, 0],\n",
              "       [0, 1]])"
            ]
          },
          "metadata": {},
          "execution_count": 135
        }
      ]
    },
    {
      "cell_type": "code",
      "metadata": {
        "colab": {
          "base_uri": "https://localhost:8080/",
          "height": 435
        },
        "id": "zlhnOiNzj3YA",
        "outputId": "72debba0-ee61-4a98-84b8-9328cc4ff025"
      },
      "source": [
        "plot_vectors([vectorfy(B, 0), vectorfy(B, 1)],\n",
        "            ['lightblue', 'lightgreen'])\n",
        "plt.xlim(-1, 3)\n",
        "_ = plt.ylim(-1, 3)"
      ],
      "execution_count": 136,
      "outputs": [
        {
          "output_type": "display_data",
          "data": {
            "text/plain": [
              "<Figure size 640x480 with 1 Axes>"
            ],
            "image/png": "[encoded data removed]"
          },
          "metadata": {}
        }
      ]
    },
    {
      "cell_type": "markdown",
      "metadata": {
        "id": "RIkz1gCO7_TW"
      },
      "source": [
        "Let's start by applying the matrix $N$ to $B$, recalling from earlier that $N$ is singular:"
      ]
    },
    {
      "cell_type": "code",
      "metadata": {
        "colab": {
          "base_uri": "https://localhost:8080/"
        },
        "id": "Fjpem_6Ij3YB",
        "outputId": "1d4a12ef-7b74-423f-a41e-45d5587c652e"
      },
      "source": [
        "N"
      ],
      "execution_count": 137,
      "outputs": [
        {
          "output_type": "execute_result",
          "data": {
            "text/plain": [
              "tensor([[-4.,  1.],\n",
              "        [-8.,  2.]])"
            ]
          },
          "metadata": {},
          "execution_count": 137
        }
      ]
    },
    {
      "cell_type": "code",
      "metadata": {
        "colab": {
          "base_uri": "https://localhost:8080/"
        },
        "id": "2BhgWTvaj3YC",
        "outputId": "ee3d9dd2-5b92-412c-ee9d-e41c9ac24b8e"
      },
      "source": [
        "np.linalg.det(N)"
      ],
      "execution_count": 138,
      "outputs": [
        {
          "output_type": "execute_result",
          "data": {
            "text/plain": [
              "np.float32(0.0)"
            ]
          },
          "metadata": {},
          "execution_count": 138
        }
      ]
    },
    {
      "cell_type": "code",
      "metadata": {
        "colab": {
          "base_uri": "https://localhost:8080/"
        },
        "id": "O3XSySPaj3YE",
        "outputId": "c397e476-7259-463d-ab08-1f3869d26046"
      },
      "source": [
        "NB = np.dot(N, B)\n",
        "NB"
      ],
      "execution_count": 139,
      "outputs": [
        {
          "output_type": "stream",
          "name": "stderr",
          "text": [
            "<ipython-input-139-2361209457>:1: DeprecationWarning: __array__ implementation doesn't accept a copy keyword, so passing copy=False failed. __array__ must implement 'dtype' and 'copy' keyword arguments.\n",
            "  NB = np.dot(N, B)\n"
          ]
        },
        {
          "output_type": "execute_result",
          "data": {
            "text/plain": [
              "array([[-4.,  1.],\n",
              "       [-8.,  2.]])"
            ]
          },
          "metadata": {},
          "execution_count": 139
        }
      ]
    },
    {
      "cell_type": "code",
      "metadata": {
        "colab": {
          "base_uri": "https://localhost:8080/",
          "height": 430
        },
        "id": "GLiyz0nxj3YF",
        "outputId": "d10e9a7e-7cfe-4f84-c2aa-707dc1c1382f"
      },
      "source": [
        "plot_vectors([vectorfy(B, 0), vectorfy(B, 1), vectorfy(NB, 0), vectorfy(NB, 1)],\n",
        "            ['lightblue', 'lightgreen', 'blue', 'green'])\n",
        "plt.xlim(-6, 6)\n",
        "_ = plt.ylim(-9, 3)"
      ],
      "execution_count": 140,
      "outputs": [
        {
          "output_type": "display_data",
          "data": {
            "text/plain": [
              "<Figure size 640x480 with 1 Axes>"
            ],
            "image/png": "[encoded data removed]"
          },
          "metadata": {}
        }
      ]
    },
    {
      "cell_type": "code",
      "metadata": {
        "id": "9ErYF2Ss5zZj",
        "colab": {
          "base_uri": "https://localhost:8080/"
        },
        "outputId": "0a95d7b5-7011-49be-bdad-e07824e5d457"
      },
      "source": [
        "lambdas, V = np.linalg.eig(N)\n",
        "lambdas"
      ],
      "execution_count": 141,
      "outputs": [
        {
          "output_type": "execute_result",
          "data": {
            "text/plain": [
              "array([-2.,  0.], dtype=float32)"
            ]
          },
          "metadata": {},
          "execution_count": 141
        }
      ]
    },
    {
      "cell_type": "markdown",
      "metadata": {
        "id": "TLwFZuuN8L78"
      },
      "source": [
        "Aha! If any one of a matrix's eigenvalues is zero, then the product of the eigenvalues must be zero and the determinant must also be zero."
      ]
    },
    {
      "cell_type": "markdown",
      "metadata": {
        "id": "tT6ZmuaN8cwJ"
      },
      "source": [
        "Now let's try applying $I_2$ to $B$:"
      ]
    },
    {
      "cell_type": "code",
      "metadata": {
        "colab": {
          "base_uri": "https://localhost:8080/"
        },
        "id": "mqEkY-8lj3YH",
        "outputId": "b189f8e6-d3cb-42c3-c564-0ab44e4e00cd"
      },
      "source": [
        "I"
      ],
      "execution_count": 142,
      "outputs": [
        {
          "output_type": "execute_result",
          "data": {
            "text/plain": [
              "array([[1, 0],\n",
              "       [0, 1]])"
            ]
          },
          "metadata": {},
          "execution_count": 142
        }
      ]
    },
    {
      "cell_type": "code",
      "metadata": {
        "colab": {
          "base_uri": "https://localhost:8080/"
        },
        "id": "zwmKA0wLj3YI",
        "outputId": "5ca4c64e-003d-4c27-a478-1dacc2fc088d"
      },
      "source": [
        "np.linalg.det(I)"
      ],
      "execution_count": 143,
      "outputs": [
        {
          "output_type": "execute_result",
          "data": {
            "text/plain": [
              "np.float64(1.0)"
            ]
          },
          "metadata": {},
          "execution_count": 143
        }
      ]
    },
    {
      "cell_type": "code",
      "metadata": {
        "colab": {
          "base_uri": "https://localhost:8080/"
        },
        "id": "xaIq_dUKj3YJ",
        "outputId": "dbbe84fd-8b04-42cd-dad4-116f194266b5"
      },
      "source": [
        "IB = np.dot(I, B)\n",
        "IB"
      ],
      "execution_count": 144,
      "outputs": [
        {
          "output_type": "execute_result",
          "data": {
            "text/plain": [
              "array([[1, 0],\n",
              "       [0, 1]])"
            ]
          },
          "metadata": {},
          "execution_count": 144
        }
      ]
    },
    {
      "cell_type": "code",
      "metadata": {
        "colab": {
          "base_uri": "https://localhost:8080/",
          "height": 435
        },
        "id": "8y6svzaLj3YK",
        "outputId": "1c9b2474-b08d-4d52-f847-0ed2d29214ac"
      },
      "source": [
        "plot_vectors([vectorfy(B, 0), vectorfy(B, 1), vectorfy(IB, 0), vectorfy(IB, 1)],\n",
        "            ['lightblue', 'lightgreen', 'blue', 'green'])\n",
        "plt.xlim(-1, 3)\n",
        "_ = plt.ylim(-1, 3)"
      ],
      "execution_count": 145,
      "outputs": [
        {
          "output_type": "display_data",
          "data": {
            "text/plain": [
              "<Figure size 640x480 with 1 Axes>"
            ],
            "image/png": "[encoded data removed]"
          },
          "metadata": {}
        }
      ]
    },
    {
      "cell_type": "code",
      "metadata": {
        "id": "IWkwRV_46T-q",
        "colab": {
          "base_uri": "https://localhost:8080/"
        },
        "outputId": "125a3002-9fb1-46b0-c62c-288721edfffe"
      },
      "source": [
        "lambdas, V = np.linalg.eig(I)\n",
        "lambdas"
      ],
      "execution_count": 146,
      "outputs": [
        {
          "output_type": "execute_result",
          "data": {
            "text/plain": [
              "array([1., 1.])"
            ]
          },
          "metadata": {},
          "execution_count": 146
        }
      ]
    },
    {
      "cell_type": "markdown",
      "metadata": {
        "id": "Dfrv5ipF9Nx3"
      },
      "source": [
        "All right, so applying an identity matrix isn't the most exciting operation in the world. Let's now apply this matrix $J$ which is more interesting:"
      ]
    },
    {
      "cell_type": "code",
      "metadata": {
        "colab": {
          "base_uri": "https://localhost:8080/"
        },
        "id": "Xj4bnqVcj3YL",
        "outputId": "431b6650-d655-4aa9-c766-0c8c74643d8f"
      },
      "source": [
        "J = np.array([[-0.5, 0], [0, 2]])\n",
        "J"
      ],
      "execution_count": 147,
      "outputs": [
        {
          "output_type": "execute_result",
          "data": {
            "text/plain": [
              "array([[-0.5,  0. ],\n",
              "       [ 0. ,  2. ]])"
            ]
          },
          "metadata": {},
          "execution_count": 147
        }
      ]
    },
    {
      "cell_type": "code",
      "metadata": {
        "colab": {
          "base_uri": "https://localhost:8080/"
        },
        "id": "D2ODTOpAj3YM",
        "outputId": "c83b19a5-4915-47c3-9160-b5a969847523"
      },
      "source": [
        "np.linalg.det(J)"
      ],
      "execution_count": 148,
      "outputs": [
        {
          "output_type": "execute_result",
          "data": {
            "text/plain": [
              "np.float64(-1.0)"
            ]
          },
          "metadata": {},
          "execution_count": 148
        }
      ]
    },
    {
      "cell_type": "code",
      "metadata": {
        "colab": {
          "base_uri": "https://localhost:8080/"
        },
        "id": "3kHJ7Q2Ij3YN",
        "outputId": "29ba80fa-d7b7-40d1-f1d2-cf755d01b8c7"
      },
      "source": [
        "np.abs(np.linalg.det(J))"
      ],
      "execution_count": 149,
      "outputs": [
        {
          "output_type": "execute_result",
          "data": {
            "text/plain": [
              "np.float64(1.0)"
            ]
          },
          "metadata": {},
          "execution_count": 149
        }
      ]
    },
    {
      "cell_type": "code",
      "metadata": {
        "colab": {
          "base_uri": "https://localhost:8080/"
        },
        "id": "ABciINQwj3YO",
        "outputId": "239aa901-9adc-4d83-866f-f1e27f19a1a1"
      },
      "source": [
        "JB = np.dot(J, B)\n",
        "JB"
      ],
      "execution_count": 150,
      "outputs": [
        {
          "output_type": "execute_result",
          "data": {
            "text/plain": [
              "array([[-0.5,  0. ],\n",
              "       [ 0. ,  2. ]])"
            ]
          },
          "metadata": {},
          "execution_count": 150
        }
      ]
    },
    {
      "cell_type": "code",
      "metadata": {
        "colab": {
          "base_uri": "https://localhost:8080/",
          "height": 435
        },
        "id": "5nWa22ZNj3YO",
        "outputId": "22a5bcc8-c9a9-4748-a166-acd780512cba"
      },
      "source": [
        "plot_vectors([vectorfy(B, 0), vectorfy(B, 1), vectorfy(JB, 0), vectorfy(JB, 1)],\n",
        "            ['lightblue', 'lightgreen', 'blue', 'green'])\n",
        "plt.xlim(-1, 3)\n",
        "_ = plt.ylim(-1, 3)"
      ],
      "execution_count": 151,
      "outputs": [
        {
          "output_type": "display_data",
          "data": {
            "text/plain": [
              "<Figure size 640x480 with 1 Axes>"
            ],
            "image/png": "[encoded data removed]"
          },
          "metadata": {}
        }
      ]
    },
    {
      "cell_type": "code",
      "metadata": {
        "id": "K4GTT7Ja6azt",
        "colab": {
          "base_uri": "https://localhost:8080/"
        },
        "outputId": "be56a3c6-1d0f-4695-9f47-db7963535980"
      },
      "source": [
        "lambdas, V = np.linalg.eig(J)\n",
        "lambdas"
      ],
      "execution_count": 152,
      "outputs": [
        {
          "output_type": "execute_result",
          "data": {
            "text/plain": [
              "array([-0.5,  2. ])"
            ]
          },
          "metadata": {},
          "execution_count": 152
        }
      ]
    },
    {
      "cell_type": "markdown",
      "metadata": {
        "id": "b1KENtMQ9g4g"
      },
      "source": [
        "Finally, let's apply the matrix $D$, which scales vectors by doubling along both the $x$ and $y$ axes:"
      ]
    },
    {
      "cell_type": "code",
      "metadata": {
        "id": "u-OI7xBWj3YQ"
      },
      "source": [
        "D = I*2\n",
        "D"
      ],
      "execution_count": null,
      "outputs": []
    },
    {
      "cell_type": "code",
      "metadata": {
        "id": "iKoTu9sbj3YR"
      },
      "source": [
        "np.linalg.det(D)"
      ],
      "execution_count": null,
      "outputs": []
    },
    {
      "cell_type": "code",
      "metadata": {
        "id": "kTb0o2Ydj3YS"
      },
      "source": [
        "DB = np.dot(D, B)\n",
        "DB"
      ],
      "execution_count": null,
      "outputs": []
    },
    {
      "cell_type": "code",
      "metadata": {
        "id": "3J2ou_zSj3YT"
      },
      "source": [
        "plot_vectors([vectorfy(B, 0), vectorfy(B, 1), vectorfy(DB, 0), vectorfy(DB, 1)],\n",
        "            ['lightblue', 'lightgreen', 'blue', 'green'])\n",
        "plt.xlim(-1, 3)\n",
        "_ = plt.ylim(-1, 3)"
      ],
      "execution_count": null,
      "outputs": []
    },
    {
      "cell_type": "code",
      "metadata": {
        "id": "kTfi_wGC-QCL"
      },
      "source": [
        "lambdas, V = np.linalg.eig(D)\n",
        "lambdas"
      ],
      "execution_count": null,
      "outputs": []
    },
    {
      "cell_type": "markdown",
      "metadata": {
        "id": "Av0R8fddj3Yb"
      },
      "source": [
        "**Return to slides here.**"
      ]
    },
    {
      "cell_type": "markdown",
      "metadata": {
        "id": "MXNajp3Ej3Yb"
      },
      "source": [
        "### Eigendecomposition"
      ]
    },
    {
      "cell_type": "markdown",
      "metadata": {
        "id": "wQt403xbj3Yb"
      },
      "source": [
        "The **eigendecomposition** of some matrix $A$ is\n",
        "\n",
        "$A = V \\Lambda V^{-1}$\n",
        "\n",
        "Where:\n",
        "\n",
        "* As in examples above, $V$ is the concatenation of all the eigenvectors of $A$\n",
        "* $\\Lambda$ (upper-case $\\lambda$) is the diagonal matrix diag($\\lambda$). Note that the convention is to arrange the lambda values in descending order; as a result, the first eigenvalue (and its associated eigenvector) may be a primary characteristic of the matrix $A$."
      ]
    },
    {
      "cell_type": "code",
      "metadata": {
        "id": "W7LmR3YGj3Yb",
        "colab": {
          "base_uri": "https://localhost:8080/"
        },
        "outputId": "b32c8f15-265c-47e4-8714-832516476845"
      },
      "source": [
        "# This was used earlier as a matrix X; it has nice clean integer eigenvalues...\n",
        "A = np.array([[4, 2], [-5, -3]])\n",
        "A"
      ],
      "execution_count": 153,
      "outputs": [
        {
          "output_type": "execute_result",
          "data": {
            "text/plain": [
              "array([[ 4,  2],\n",
              "       [-5, -3]])"
            ]
          },
          "metadata": {},
          "execution_count": 153
        }
      ]
    },
    {
      "cell_type": "code",
      "metadata": {
        "id": "37zeBrqhj3Yc"
      },
      "source": [
        "lambdas, V = np.linalg.eig(A)"
      ],
      "execution_count": 154,
      "outputs": []
    },
    {
      "cell_type": "code",
      "metadata": {
        "id": "b7LtIIMJj3Yd",
        "colab": {
          "base_uri": "https://localhost:8080/"
        },
        "outputId": "54303182-8f9e-47c9-ed29-3047a9c9eac6"
      },
      "source": [
        "V"
      ],
      "execution_count": 155,
      "outputs": [
        {
          "output_type": "execute_result",
          "data": {
            "text/plain": [
              "array([[ 0.70710678, -0.37139068],\n",
              "       [-0.70710678,  0.92847669]])"
            ]
          },
          "metadata": {},
          "execution_count": 155
        }
      ]
    },
    {
      "cell_type": "code",
      "metadata": {
        "id": "q1uuRwcdj3Ye",
        "colab": {
          "base_uri": "https://localhost:8080/"
        },
        "outputId": "d9e91b49-75ab-40e2-c786-58b4ffbb9ec1"
      },
      "source": [
        "Vinv = np.linalg.inv(V)\n",
        "Vinv"
      ],
      "execution_count": 156,
      "outputs": [
        {
          "output_type": "execute_result",
          "data": {
            "text/plain": [
              "array([[2.3570226 , 0.94280904],\n",
              "       [1.79505494, 1.79505494]])"
            ]
          },
          "metadata": {},
          "execution_count": 156
        }
      ]
    },
    {
      "cell_type": "code",
      "metadata": {
        "id": "_InHRuS1j3Yf",
        "colab": {
          "base_uri": "https://localhost:8080/"
        },
        "outputId": "05b4994e-1c9c-4214-c413-140366ab223b"
      },
      "source": [
        "Lambda = np.diag(lambdas)\n",
        "Lambda"
      ],
      "execution_count": 157,
      "outputs": [
        {
          "output_type": "execute_result",
          "data": {
            "text/plain": [
              "array([[ 2.,  0.],\n",
              "       [ 0., -1.]])"
            ]
          },
          "metadata": {},
          "execution_count": 157
        }
      ]
    },
    {
      "cell_type": "markdown",
      "metadata": {
        "id": "KSBnzTBZj3Yg"
      },
      "source": [
        "Confirm that $A = V \\Lambda V^{-1}$:"
      ]
    },
    {
      "cell_type": "code",
      "metadata": {
        "id": "pG1E3yLYj3Yg",
        "colab": {
          "base_uri": "https://localhost:8080/"
        },
        "outputId": "9efbcfeb-e7d3-434d-d5fb-ea88ed85c231"
      },
      "source": [
        "np.dot(V, np.dot(Lambda, Vinv))"
      ],
      "execution_count": 158,
      "outputs": [
        {
          "output_type": "execute_result",
          "data": {
            "text/plain": [
              "array([[ 4.,  2.],\n",
              "       [-5., -3.]])"
            ]
          },
          "metadata": {},
          "execution_count": 158
        }
      ]
    },
    {
      "cell_type": "markdown",
      "metadata": {
        "id": "JTmKZk8fj3Yh"
      },
      "source": [
        "Eigendecomposition is not possible with all matrices. And in some cases where it is possible, the eigendecomposition involves complex numbers instead of straightforward real numbers.\n",
        "\n",
        "In machine learning, however, we are typically working with real symmetric matrices, which can be conveniently and efficiently decomposed into real-only eigenvectors and real-only eigenvalues. If $A$ is a real symmetric matrix then...\n",
        "\n",
        "$A = Q \\Lambda Q^T$\n",
        "\n",
        "...where $Q$ is analogous to $V$ from the previous equation except that it's special because it's an orthogonal matrix."
      ]
    },
    {
      "cell_type": "code",
      "metadata": {
        "id": "GpZLd9Ozj3Yh",
        "colab": {
          "base_uri": "https://localhost:8080/"
        },
        "outputId": "87bf9b8f-0476-4992-94b9-9352d2f8f98e"
      },
      "source": [
        "A = np.array([[2, 1], [1, 2]])\n",
        "A"
      ],
      "execution_count": 159,
      "outputs": [
        {
          "output_type": "execute_result",
          "data": {
            "text/plain": [
              "array([[2, 1],\n",
              "       [1, 2]])"
            ]
          },
          "metadata": {},
          "execution_count": 159
        }
      ]
    },
    {
      "cell_type": "code",
      "metadata": {
        "id": "EJOgExEZj3Yj"
      },
      "source": [
        "lambdas, Q = np.linalg.eig(A)"
      ],
      "execution_count": 160,
      "outputs": []
    },
    {
      "cell_type": "code",
      "metadata": {
        "id": "9qouDzN5j3Yk",
        "colab": {
          "base_uri": "https://localhost:8080/"
        },
        "outputId": "114fc456-f547-4eeb-c34b-97c831f7757c"
      },
      "source": [
        "lambdas"
      ],
      "execution_count": 161,
      "outputs": [
        {
          "output_type": "execute_result",
          "data": {
            "text/plain": [
              "array([3., 1.])"
            ]
          },
          "metadata": {},
          "execution_count": 161
        }
      ]
    },
    {
      "cell_type": "code",
      "metadata": {
        "id": "JZFyXQzkj3Yl",
        "colab": {
          "base_uri": "https://localhost:8080/"
        },
        "outputId": "8ecfebbb-1609-4a1a-c870-f8900fe736fe"
      },
      "source": [
        "Lambda = np.diag(lambdas)\n",
        "Lambda"
      ],
      "execution_count": 162,
      "outputs": [
        {
          "output_type": "execute_result",
          "data": {
            "text/plain": [
              "array([[3., 0.],\n",
              "       [0., 1.]])"
            ]
          },
          "metadata": {},
          "execution_count": 162
        }
      ]
    },
    {
      "cell_type": "code",
      "metadata": {
        "id": "BLXaGoVBj3Yl",
        "colab": {
          "base_uri": "https://localhost:8080/"
        },
        "outputId": "ca58bc9d-af4c-43e9-8aff-f8c3978a1afe"
      },
      "source": [
        "Q"
      ],
      "execution_count": 163,
      "outputs": [
        {
          "output_type": "execute_result",
          "data": {
            "text/plain": [
              "array([[ 0.70710678, -0.70710678],\n",
              "       [ 0.70710678,  0.70710678]])"
            ]
          },
          "metadata": {},
          "execution_count": 163
        }
      ]
    },
    {
      "cell_type": "markdown",
      "metadata": {
        "id": "UnOfuIf7j3Yo"
      },
      "source": [
        "Let's confirm $A = Q \\Lambda Q^T$:"
      ]
    },
    {
      "cell_type": "code",
      "metadata": {
        "id": "k4DukMWJj3Yo",
        "colab": {
          "base_uri": "https://localhost:8080/"
        },
        "outputId": "48f30620-ba7e-4a81-8a06-b40cb73775af"
      },
      "source": [
        "np.dot(Q, np.dot(Lambda, Q.T))"
      ],
      "execution_count": 164,
      "outputs": [
        {
          "output_type": "execute_result",
          "data": {
            "text/plain": [
              "array([[2., 1.],\n",
              "       [1., 2.]])"
            ]
          },
          "metadata": {},
          "execution_count": 164
        }
      ]
    },
    {
      "cell_type": "markdown",
      "metadata": {
        "id": "_eq_1nssj3Ym"
      },
      "source": [
        "(As a quick aside, we can demostrate that $Q$ is an orthogonal matrix because $Q^TQ = QQ^T = I$.)"
      ]
    },
    {
      "cell_type": "code",
      "metadata": {
        "id": "TcavBhdEj3Ym",
        "colab": {
          "base_uri": "https://localhost:8080/"
        },
        "outputId": "f5fec0af-5a61-403c-90b1-d2272bc37ea6"
      },
      "source": [
        "np.dot(Q.T, Q)"
      ],
      "execution_count": 165,
      "outputs": [
        {
          "output_type": "execute_result",
          "data": {
            "text/plain": [
              "array([[1.00000000e+00, 2.23711432e-17],\n",
              "       [2.23711432e-17, 1.00000000e+00]])"
            ]
          },
          "metadata": {},
          "execution_count": 165
        }
      ]
    },
    {
      "cell_type": "code",
      "metadata": {
        "id": "xup113b8j3Yo",
        "colab": {
          "base_uri": "https://localhost:8080/"
        },
        "outputId": "2d7a8ee7-7fce-4996-e1b7-84476aeed359"
      },
      "source": [
        "np.dot(Q, Q.T)"
      ],
      "execution_count": 166,
      "outputs": [
        {
          "output_type": "execute_result",
          "data": {
            "text/plain": [
              "array([[ 1.00000000e+00, -2.23711432e-17],\n",
              "       [-2.23711432e-17,  1.00000000e+00]])"
            ]
          },
          "metadata": {},
          "execution_count": 166
        }
      ]
    },
    {
      "cell_type": "markdown",
      "metadata": {
        "id": "fdJaTKnsj3Yp"
      },
      "source": [
        "**Exercises**:\n",
        "\n",
        "1. Use PyTorch to decompose the matrix $P$ (below) into its components $V$, $\\Lambda$, and $V^{-1}$. Confirm that $P = V \\Lambda V^{-1}$.\n",
        "2. Use PyTorch to decompose the symmetric matrix $S$ (below) into its components $Q$, $\\Lambda$, and $Q^T$. Confirm that $S = Q \\Lambda Q^T$."
      ]
    },
    {
      "cell_type": "code",
      "metadata": {
        "id": "_RVUCVlvj3Yp",
        "colab": {
          "base_uri": "https://localhost:8080/"
        },
        "outputId": "30e807ae-601f-4c25-b99a-0b34c4ecbfc4"
      },
      "source": [
        "P = torch.tensor([[25, 2, -5], [3, -2, 1], [5, 7, 4.]])\n",
        "P"
      ],
      "execution_count": 167,
      "outputs": [
        {
          "output_type": "execute_result",
          "data": {
            "text/plain": [
              "tensor([[25.,  2., -5.],\n",
              "        [ 3., -2.,  1.],\n",
              "        [ 5.,  7.,  4.]])"
            ]
          },
          "metadata": {},
          "execution_count": 167
        }
      ]
    },
    {
      "cell_type": "code",
      "source": [
        "#egienvectors and values of P\n",
        "lambdas_p, V_p = torch.linalg.eig(P)\n",
        "V_p\n"
      ],
      "metadata": {
        "id": "qdpymIXhlTSw",
        "outputId": "6e74fa8e-e066-49d1-fdcb-668294b9d807",
        "colab": {
          "base_uri": "https://localhost:8080/"
        }
      },
      "execution_count": 168,
      "outputs": [
        {
          "output_type": "execute_result",
          "data": {
            "text/plain": [
              "tensor([[ 0.9511+0.j, -0.2386+0.j,  0.1626+0.j],\n",
              "        [ 0.1218+0.j, -0.1924+0.j, -0.7705+0.j],\n",
              "        [ 0.2837+0.j, -0.9519+0.j,  0.6163+0.j]])"
            ]
          },
          "metadata": {},
          "execution_count": 168
        }
      ]
    },
    {
      "cell_type": "code",
      "source": [
        "#converting V_p to real values\n",
        "V_p = V_p.float()\n",
        "V_p"
      ],
      "metadata": {
        "id": "GeuCx43CmIhl",
        "outputId": "fb3eaae5-1a14-4033-c15c-50ef038fc24a",
        "colab": {
          "base_uri": "https://localhost:8080/"
        }
      },
      "execution_count": 172,
      "outputs": [
        {
          "output_type": "execute_result",
          "data": {
            "text/plain": [
              "tensor([[ 0.9511, -0.2386,  0.1626],\n",
              "        [ 0.1218, -0.1924, -0.7705],\n",
              "        [ 0.2837, -0.9519,  0.6163]])"
            ]
          },
          "metadata": {},
          "execution_count": 172
        }
      ]
    },
    {
      "cell_type": "code",
      "source": [
        "V_p_inv = torch.linalg.inv(V_p)\n",
        "V_p_inv"
      ],
      "metadata": {
        "id": "C-Vr6lS-lWJf",
        "outputId": "13d2572e-763b-4817-ea55-e96ee0929701",
        "colab": {
          "base_uri": "https://localhost:8080/"
        }
      },
      "execution_count": 173,
      "outputs": [
        {
          "output_type": "execute_result",
          "data": {
            "text/plain": [
              "tensor([[ 1.1356,  0.0102, -0.2868],\n",
              "        [ 0.3914, -0.7198, -1.0032],\n",
              "        [ 0.0817, -1.1164,  0.2052]])"
            ]
          },
          "metadata": {},
          "execution_count": 173
        }
      ]
    },
    {
      "cell_type": "code",
      "source": [
        "Lambda_p = torch.diag(lambdas_p)\n",
        "Lambda_p = Lambda_p.float()\n",
        "Lambda_p"
      ],
      "metadata": {
        "id": "0pm93wkVlr5u",
        "outputId": "2b0f573d-bd75-4816-d32d-d657c75756b6",
        "colab": {
          "base_uri": "https://localhost:8080/"
        }
      },
      "execution_count": 175,
      "outputs": [
        {
          "output_type": "execute_result",
          "data": {
            "text/plain": [
              "tensor([[23.7644,  0.0000,  0.0000],\n",
              "        [ 0.0000,  6.6684,  0.0000],\n",
              "        [ 0.0000,  0.0000, -3.4328]])"
            ]
          },
          "metadata": {},
          "execution_count": 175
        }
      ]
    },
    {
      "cell_type": "code",
      "source": [
        "torch.matmul(V_p, torch.matmul(Lambda_p, V_p_inv))"
      ],
      "metadata": {
        "id": "kPQrN30Il9JX",
        "outputId": "8c4b326a-53b9-474e-8a16-b8c54bc452e3",
        "colab": {
          "base_uri": "https://localhost:8080/"
        }
      },
      "execution_count": 177,
      "outputs": [
        {
          "output_type": "execute_result",
          "data": {
            "text/plain": [
              "tensor([[25.0000,  2.0000, -5.0000],\n",
              "        [ 3.0000, -2.0000,  1.0000],\n",
              "        [ 5.0000,  7.0000,  4.0000]])"
            ]
          },
          "metadata": {},
          "execution_count": 177
        }
      ]
    },
    {
      "cell_type": "code",
      "source": [],
      "metadata": {
        "id": "x02vAqbnl9Fy"
      },
      "execution_count": null,
      "outputs": []
    },
    {
      "cell_type": "code",
      "metadata": {
        "id": "GjKZ_AWLj3Yq"
      },
      "source": [
        "S = torch.tensor([[25, 2, -5], [2, -2, 1], [-5, 1, 4.]])\n",
        "S"
      ],
      "execution_count": null,
      "outputs": []
    },
    {
      "cell_type": "markdown",
      "metadata": {
        "id": "1OFq3uGaj3Yq"
      },
      "source": [
        "**Return to slides here.**"
      ]
    },
    {
      "cell_type": "markdown",
      "metadata": {
        "id": "gKam0tJOj3Yr"
      },
      "source": [
        "## Segment 3: Matrix Operations for ML"
      ]
    },
    {
      "cell_type": "markdown",
      "metadata": {
        "id": "j-wbn7omj3Yr"
      },
      "source": [
        "### Singular Value Decomposition (SVD)"
      ]
    },
    {
      "cell_type": "markdown",
      "metadata": {
        "id": "x2SHytttj3Yr"
      },
      "source": [
        "As on slides, SVD of matrix $A$ is:\n",
        "\n",
        "$A = UDV^T$\n",
        "\n",
        "Where:\n",
        "\n",
        "* $U$ is an orthogonal $m \\times m$ matrix; its columns are the **left-singular vectors** of $A$.\n",
        "* $V$ is an orthogonal $n \\times n$ matrix; its columns are the **right-singular vectors** of $A$.\n",
        "* $D$ is a diagonal $m \\times n$ matrix; elements along its diagonal are the **singular values** of $A$."
      ]
    },
    {
      "cell_type": "code",
      "metadata": {
        "id": "V7hR4Htdj3Yr"
      },
      "source": [
        "A = np.array([[-1, 2], [3, -2], [5, 7]])\n",
        "A"
      ],
      "execution_count": null,
      "outputs": []
    },
    {
      "cell_type": "code",
      "metadata": {
        "id": "ihj2XfMQj3Ys"
      },
      "source": [
        "U, d, VT = np.linalg.svd(A) # V is already transposed"
      ],
      "execution_count": null,
      "outputs": []
    },
    {
      "cell_type": "code",
      "metadata": {
        "id": "DUfP2aaTj3Yv"
      },
      "source": [
        "U"
      ],
      "execution_count": null,
      "outputs": []
    },
    {
      "cell_type": "code",
      "metadata": {
        "id": "s_Fkoarvj3Yw"
      },
      "source": [
        "VT"
      ],
      "execution_count": null,
      "outputs": []
    },
    {
      "cell_type": "code",
      "metadata": {
        "id": "wNSRDcfsj3Yx"
      },
      "source": [
        "d"
      ],
      "execution_count": null,
      "outputs": []
    },
    {
      "cell_type": "code",
      "metadata": {
        "id": "Lbxh2rYoj3Yy"
      },
      "source": [
        "np.diag(d)"
      ],
      "execution_count": null,
      "outputs": []
    },
    {
      "cell_type": "markdown",
      "metadata": {
        "id": "6JN2VA3GNIP5"
      },
      "source": [
        "$D$ must have the same dimensions as $A$ for $UDV^T$ matrix multiplication to be possible:"
      ]
    },
    {
      "cell_type": "code",
      "metadata": {
        "id": "V47I3B87j3Y0"
      },
      "source": [
        "D = np.concatenate((np.diag(d), [[0, 0]]), axis=0)\n",
        "D"
      ],
      "execution_count": null,
      "outputs": []
    },
    {
      "cell_type": "code",
      "metadata": {
        "id": "9euCs5vvj3Y2"
      },
      "source": [
        "np.dot(U, np.dot(D, VT))"
      ],
      "execution_count": null,
      "outputs": []
    },
    {
      "cell_type": "markdown",
      "metadata": {
        "id": "u-WCBOzKj3Y3"
      },
      "source": [
        "SVD and eigendecomposition are closely related to each other:\n",
        "\n",
        "* Left-singular vectors of $A$ = eigenvectors of $AA^T$.\n",
        "* Right-singular vectors of $A$ = eigenvectors of $A^TA$.\n",
        "* Non-zero singular values of $A$ = square roots of eigenvalues of $AA^T$ = square roots of eigenvalues of $A^TA$\n",
        "\n",
        "**Exercise**: Using the matrix `P` from the preceding PyTorch exercises, demonstrate that these three SVD-eigendecomposition equations are true."
      ]
    },
    {
      "cell_type": "markdown",
      "metadata": {
        "id": "CWEOMqUUj3Y3"
      },
      "source": [
        "### Image Compression via SVD"
      ]
    },
    {
      "cell_type": "markdown",
      "metadata": {
        "id": "XmRvLo_Tj3Y3"
      },
      "source": [
        "The section features code adapted from [Frank Cleary's](https://gist.github.com/frankcleary/4d2bd178708503b556b0)."
      ]
    },
    {
      "cell_type": "code",
      "metadata": {
        "id": "luD8Y98Vj3Y3"
      },
      "source": [
        "from PIL import Image"
      ],
      "execution_count": null,
      "outputs": []
    },
    {
      "cell_type": "markdown",
      "metadata": {
        "id": "thPmYUx4j3Y4"
      },
      "source": [
        "Fetch photo of Oboe, a terrier, with the book *Deep Learning Illustrated*:"
      ]
    },
    {
      "cell_type": "code",
      "metadata": {
        "id": "bPUItNUVj3Y4"
      },
      "source": [
        "! wget https://raw.githubusercontent.com/jonkrohn/DLTFpT/master/notebooks/oboe-with-book.jpg"
      ],
      "execution_count": null,
      "outputs": []
    },
    {
      "cell_type": "code",
      "metadata": {
        "id": "6lx_Frl6j3Y6"
      },
      "source": [
        "img = Image.open('oboe-with-book.jpg')\n",
        "_ = plt.imshow(img)"
      ],
      "execution_count": null,
      "outputs": []
    },
    {
      "cell_type": "markdown",
      "metadata": {
        "id": "XYmg1Fa8j3Y6"
      },
      "source": [
        "Convert image to grayscale so that we don't have to deal with the complexity of multiple color channels:"
      ]
    },
    {
      "cell_type": "code",
      "metadata": {
        "id": "uki3S6w0j3Y7"
      },
      "source": [
        "imggray = img.convert('LA')\n",
        "_ = plt.imshow(imggray)"
      ],
      "execution_count": null,
      "outputs": []
    },
    {
      "cell_type": "markdown",
      "metadata": {
        "id": "eVwgrA0Jj3Y9"
      },
      "source": [
        "Convert data into numpy matrix, which doesn't impact image data:"
      ]
    },
    {
      "cell_type": "code",
      "metadata": {
        "id": "wHijyFgUj3Y9"
      },
      "source": [
        "imgmat = np.array(list(imggray.getdata(band=0)), float)\n",
        "imgmat.shape = (imggray.size[1], imggray.size[0])\n",
        "imgmat = np.matrix(imgmat)\n",
        "_ = plt.imshow(imgmat, cmap='gray')"
      ],
      "execution_count": null,
      "outputs": []
    },
    {
      "cell_type": "markdown",
      "metadata": {
        "id": "x8VCD3lyj3Y-"
      },
      "source": [
        "Calculate SVD of the image:"
      ]
    },
    {
      "cell_type": "code",
      "metadata": {
        "id": "kbBLn2Csj3Y-"
      },
      "source": [
        "U, sigma, V = np.linalg.svd(imgmat)"
      ],
      "execution_count": null,
      "outputs": []
    },
    {
      "cell_type": "markdown",
      "metadata": {
        "id": "ApybkCdLj3Y-"
      },
      "source": [
        "As eigenvalues are arranged in descending order in diag($\\lambda$) so too are singular values, by convention, arranged in descending order in $D$ (or, in this code, diag($\\sigma$)). Thus, the first left-singular vector of $U$ and first right-singular vector of $V$ may represent the most prominent feature of the image:"
      ]
    },
    {
      "cell_type": "code",
      "metadata": {
        "id": "rZTwlhGxj3Y_"
      },
      "source": [
        "reconstimg = np.matrix(U[:, :1]) * np.diag(sigma[:1]) * np.matrix(V[:1, :])\n",
        "_ = plt.imshow(reconstimg, cmap='gray')"
      ],
      "execution_count": null,
      "outputs": []
    },
    {
      "cell_type": "markdown",
      "metadata": {
        "id": "4p2cEqIoj3Y_"
      },
      "source": [
        "Additional singular vectors improve the image quality:"
      ]
    },
    {
      "cell_type": "code",
      "metadata": {
        "id": "f5-6LEbij3ZA"
      },
      "source": [
        "for i in [2, 4, 8, 16, 32, 64]:\n",
        "    reconstimg = np.matrix(U[:, :i]) * np.diag(sigma[:i]) * np.matrix(V[:i, :])\n",
        "    plt.imshow(reconstimg, cmap='gray')\n",
        "    title = \"n = %s\" % i\n",
        "    plt.title(title)\n",
        "    plt.show()"
      ],
      "execution_count": null,
      "outputs": []
    },
    {
      "cell_type": "markdown",
      "metadata": {
        "id": "IjfUJ4wNj3ZA"
      },
      "source": [
        "With 64 singular vectors, the image is reconstructed quite well, however the data footprint is much smaller than the original image:"
      ]
    },
    {
      "cell_type": "code",
      "metadata": {
        "id": "hXQy4TzCj3ZB"
      },
      "source": [
        "imgmat.shape"
      ],
      "execution_count": null,
      "outputs": []
    },
    {
      "cell_type": "code",
      "metadata": {
        "id": "SXJtpYGeLWxz"
      },
      "source": [
        "full_representation = 4032*3024\n",
        "full_representation"
      ],
      "execution_count": null,
      "outputs": []
    },
    {
      "cell_type": "code",
      "metadata": {
        "id": "vOHZXITLLWx1"
      },
      "source": [
        "svd64_rep = 64*4032 + 64 + 64*3024\n",
        "svd64_rep"
      ],
      "execution_count": null,
      "outputs": []
    },
    {
      "cell_type": "code",
      "metadata": {
        "id": "YwdA6taLj3ZD"
      },
      "source": [
        "svd64_rep/full_representation"
      ],
      "execution_count": null,
      "outputs": []
    },
    {
      "cell_type": "markdown",
      "metadata": {
        "id": "_HdtL8p7j3ZD"
      },
      "source": [
        "Specifically, the image represented as 64 singular vectors is 3.7% of the size of the original!\n",
        "\n",
        "Alongside images, we can use singular vectors for dramatic, lossy compression of other types of media files."
      ]
    },
    {
      "cell_type": "markdown",
      "metadata": {
        "id": "lBQnc4uGj3ZE"
      },
      "source": [
        "**Return to slides here.**"
      ]
    },
    {
      "cell_type": "markdown",
      "metadata": {
        "id": "FEnTYLbBj3ZE"
      },
      "source": [
        "### The Moore-Penrose Pseudoinverse"
      ]
    },
    {
      "cell_type": "markdown",
      "metadata": {
        "id": "q4_MX4D5j3ZE"
      },
      "source": [
        "Let's calculate the pseudoinverse $A^+$ of some matrix $A$ using the formula from the slides:\n",
        "\n",
        "$A^+ = VD^+U^T$"
      ]
    },
    {
      "cell_type": "code",
      "metadata": {
        "id": "gbbiRcmzj3ZE"
      },
      "source": [
        "A"
      ],
      "execution_count": null,
      "outputs": []
    },
    {
      "cell_type": "markdown",
      "metadata": {
        "id": "TFNYVdZ4j3ZF"
      },
      "source": [
        "As shown earlier, the NumPy SVD method returns $U$, $d$, and $V^T$:"
      ]
    },
    {
      "cell_type": "code",
      "metadata": {
        "id": "I6NjgNbjj3ZF"
      },
      "source": [
        "U, d, VT = np.linalg.svd(A)"
      ],
      "execution_count": null,
      "outputs": []
    },
    {
      "cell_type": "code",
      "metadata": {
        "id": "_sROQTAzj3ZG"
      },
      "source": [
        "U"
      ],
      "execution_count": null,
      "outputs": []
    },
    {
      "cell_type": "code",
      "metadata": {
        "id": "drDSW-vkj3ZG"
      },
      "source": [
        "VT"
      ],
      "execution_count": null,
      "outputs": []
    },
    {
      "cell_type": "code",
      "metadata": {
        "id": "Sr3jIv4Jj3ZH"
      },
      "source": [
        "d"
      ],
      "execution_count": null,
      "outputs": []
    },
    {
      "cell_type": "markdown",
      "metadata": {
        "id": "7yalmt19j3ZI"
      },
      "source": [
        "To create $D^+$, we first invert the non-zero values of $d$:"
      ]
    },
    {
      "cell_type": "code",
      "metadata": {
        "id": "HEvRLwQfj3ZI"
      },
      "source": [
        "D = np.diag(d)\n",
        "D"
      ],
      "execution_count": null,
      "outputs": []
    },
    {
      "cell_type": "code",
      "metadata": {
        "id": "6O2LADtLj3ZJ"
      },
      "source": [
        "1/8.669"
      ],
      "execution_count": null,
      "outputs": []
    },
    {
      "cell_type": "code",
      "metadata": {
        "id": "y1ZbYtmIj3ZJ"
      },
      "source": [
        "1/4.104"
      ],
      "execution_count": null,
      "outputs": []
    },
    {
      "cell_type": "markdown",
      "metadata": {
        "id": "yO1tNES9j3ZK"
      },
      "source": [
        "...and then we would take the tranpose of the resulting matrix.\n",
        "\n",
        "Because $D$ is a diagonal matrix, this can, however, be done in a single step by inverting $D$:"
      ]
    },
    {
      "cell_type": "code",
      "metadata": {
        "id": "Y0sjcP3Ej3ZK"
      },
      "source": [
        "Dinv = np.linalg.inv(D)\n",
        "Dinv"
      ],
      "execution_count": null,
      "outputs": []
    },
    {
      "cell_type": "markdown",
      "metadata": {
        "id": "PXJnvna-j3ZM"
      },
      "source": [
        "$D^+$ must have the same dimensions as $A^T$ in order for $VD^+U^T$ matrix multiplication to be possible:"
      ]
    },
    {
      "cell_type": "code",
      "metadata": {
        "id": "Ydq0zJHNRZPy"
      },
      "source": [
        "Dplus = np.concatenate((Dinv, np.array([[0, 0]]).T), axis=1)\n",
        "Dplus"
      ],
      "execution_count": null,
      "outputs": []
    },
    {
      "cell_type": "markdown",
      "metadata": {
        "id": "zFgtoJUKSRg1"
      },
      "source": [
        "(Recall $D$ must have the same dimensions as $A$ for SVD's $UDV^T$, but for MPP $U$ and $V$ have swapped sides around the diagonal matrix.)"
      ]
    },
    {
      "cell_type": "markdown",
      "metadata": {
        "id": "6Xt4NYHuj3ZO"
      },
      "source": [
        "Now we have everything we need to calculate $A^+$ with $VD^+U^T$:"
      ]
    },
    {
      "cell_type": "code",
      "metadata": {
        "id": "ZtWN_wnij3ZO"
      },
      "source": [
        "np.dot(VT.T, np.dot(Dplus, U.T))"
      ],
      "execution_count": null,
      "outputs": []
    },
    {
      "cell_type": "markdown",
      "metadata": {
        "id": "3syT7-hCj3ZP"
      },
      "source": [
        "Working out this derivation is helpful for understanding how Moore-Penrose pseudoinverses work, but unsurprisingly NumPy is loaded with an existing method `pinv()`:"
      ]
    },
    {
      "cell_type": "code",
      "metadata": {
        "id": "fh0nDMeLj3ZP"
      },
      "source": [
        "np.linalg.pinv(A)"
      ],
      "execution_count": null,
      "outputs": []
    },
    {
      "cell_type": "markdown",
      "metadata": {
        "id": "xNrIfpAij3ZS"
      },
      "source": [
        "**Exercise**\n",
        "\n",
        "Use the `torch.svd()` method to calculate the pseudoinverse of `A_p`, confirming that your result matches the output of `torch.pinverse(A_p)`:"
      ]
    },
    {
      "cell_type": "code",
      "metadata": {
        "id": "W2635vlEj3ZS"
      },
      "source": [
        "A_p = torch.tensor([[-1, 2], [3, -2], [5, 7.]])\n",
        "A_p"
      ],
      "execution_count": null,
      "outputs": []
    },
    {
      "cell_type": "code",
      "metadata": {
        "id": "ZW4SsUOlj3ZT"
      },
      "source": [
        "torch.pinverse(A_p)"
      ],
      "execution_count": null,
      "outputs": []
    },
    {
      "cell_type": "markdown",
      "metadata": {
        "id": "KlXBgI3Nj3ZT"
      },
      "source": [
        "**Return to slides here.**"
      ]
    },
    {
      "cell_type": "markdown",
      "metadata": {
        "id": "xMnIqjpfj3ZT"
      },
      "source": [
        "For regression problems, we typically have many more cases ($n$, or rows of $X$) than features to predict (columns of $X$). Let's solve a miniature example of such an overdetermined situation.\n",
        "\n",
        "We have eight data points ($n$ = 8):"
      ]
    },
    {
      "cell_type": "code",
      "metadata": {
        "id": "2Ft4PXaTj3ZU"
      },
      "source": [
        "x1 = [0, 1, 2, 3, 4, 5, 6, 7.] # E.g.: Dosage of drug for treating Alzheimer's disease\n",
        "y = [1.86, 1.31, .62, .33, .09, -.67, -1.23, -1.37] # E.g.: Patient's \"forgetfulness score\""
      ],
      "execution_count": null,
      "outputs": []
    },
    {
      "cell_type": "code",
      "metadata": {
        "id": "HaoEgLTzLWyH"
      },
      "source": [
        "title = 'Clinical Trial'\n",
        "xlabel = 'Drug dosage (mL)'\n",
        "ylabel = 'Forgetfulness'"
      ],
      "execution_count": null,
      "outputs": []
    },
    {
      "cell_type": "code",
      "metadata": {
        "id": "OiMAISFBj3ZW"
      },
      "source": [
        "fig, ax = plt.subplots()\n",
        "plt.title(title)\n",
        "plt.xlabel(xlabel)\n",
        "plt.ylabel(ylabel)\n",
        "_ = ax.scatter(x1, y)"
      ],
      "execution_count": null,
      "outputs": []
    },
    {
      "cell_type": "markdown",
      "metadata": {
        "id": "GWZUFeqzj3ZX"
      },
      "source": [
        "Although it appears there is only one predictor ($x_1$), our model requires a second one (let's call it $x_0$) in order to allow for a $y$-intercept. Without this second variable, the line we fit to the plot would need to pass through the origin (0, 0). The $y$-intercept is constant across all the points so we can set it equal to `1` across the board:"
      ]
    },
    {
      "cell_type": "code",
      "metadata": {
        "id": "RpAIoxydj3ZX"
      },
      "source": [
        "x0 = np.ones(8)\n",
        "x0"
      ],
      "execution_count": null,
      "outputs": []
    },
    {
      "cell_type": "markdown",
      "metadata": {
        "id": "_bkwC8Wnj3ZY"
      },
      "source": [
        "Concatenate $x_0$ and $x_1$ into a matrix $X$:"
      ]
    },
    {
      "cell_type": "code",
      "metadata": {
        "id": "x56TMNFMj3ZY"
      },
      "source": [
        "X = np.concatenate((np.matrix(x0).T, np.matrix(x1).T), axis=1)\n",
        "X"
      ],
      "execution_count": null,
      "outputs": []
    },
    {
      "cell_type": "markdown",
      "metadata": {
        "id": "v7TomkyCj3ZY"
      },
      "source": [
        "From the slides, we know that we can calculate the weights $w$ using the equation $w = X^+y$:"
      ]
    },
    {
      "cell_type": "code",
      "metadata": {
        "id": "iRYhw-N0j3ZZ"
      },
      "source": [
        "w = np.dot(np.linalg.pinv(X), y)\n",
        "w"
      ],
      "execution_count": null,
      "outputs": []
    },
    {
      "cell_type": "markdown",
      "metadata": {
        "id": "N2SoGsRNj3ZZ"
      },
      "source": [
        "The first weight corresponds to the $y$-intercept of the line, which is typically denoted as $b$:"
      ]
    },
    {
      "cell_type": "code",
      "metadata": {
        "id": "nLvuVmBGj3ZZ"
      },
      "source": [
        "b = np.asarray(w).reshape(-1)[0]\n",
        "b"
      ],
      "execution_count": null,
      "outputs": []
    },
    {
      "cell_type": "markdown",
      "metadata": {
        "id": "96XCC8Z-j3Za"
      },
      "source": [
        "While the second weight corresponds to the slope of the line, which is typically denoted as $m$:"
      ]
    },
    {
      "cell_type": "code",
      "metadata": {
        "id": "HHTNUSJCj3Za"
      },
      "source": [
        "m = np.asarray(w).reshape(-1)[1]\n",
        "m"
      ],
      "execution_count": null,
      "outputs": []
    },
    {
      "cell_type": "markdown",
      "metadata": {
        "id": "lvGCTZRqj3Zc"
      },
      "source": [
        "With the weights we can plot the line to confirm it fits the points:"
      ]
    },
    {
      "cell_type": "code",
      "metadata": {
        "id": "q9SAiUyej3Zc"
      },
      "source": [
        "fig, ax = plt.subplots()\n",
        "\n",
        "plt.title(title)\n",
        "plt.xlabel(xlabel)\n",
        "plt.ylabel(ylabel)\n",
        "\n",
        "ax.scatter(x1, y)\n",
        "\n",
        "x_min, x_max = ax.get_xlim()\n",
        "y_at_xmin = m*x_min + b\n",
        "y_at_xmax = m*x_max + b\n",
        "\n",
        "ax.set_xlim([x_min, x_max])\n",
        "_ = ax.plot([x_min, x_max], [y_at_xmin, y_at_xmax], c='C01')"
      ],
      "execution_count": null,
      "outputs": []
    },
    {
      "cell_type": "markdown",
      "metadata": {
        "id": "vNJJNtDzSh83"
      },
      "source": [
        "**DO NOT return to slides here. Onward!**"
      ]
    },
    {
      "cell_type": "markdown",
      "metadata": {
        "id": "rJnSV2afj3Zd"
      },
      "source": [
        "### The Trace Operator"
      ]
    },
    {
      "cell_type": "markdown",
      "metadata": {
        "id": "dq9uqorvj3Zd"
      },
      "source": [
        "Denoted as Tr($A$). Simply the sum of the diagonal elements of a matrix: $$\\sum_i A_{i,i}$$"
      ]
    },
    {
      "cell_type": "code",
      "metadata": {
        "id": "vOdkry9ij3Zd"
      },
      "source": [
        "A = np.array([[25, 2], [5, 4]])\n",
        "A"
      ],
      "execution_count": null,
      "outputs": []
    },
    {
      "cell_type": "code",
      "metadata": {
        "id": "zwh8-KTNj3Ze"
      },
      "source": [
        "25 + 4"
      ],
      "execution_count": null,
      "outputs": []
    },
    {
      "cell_type": "code",
      "metadata": {
        "id": "7LxzUu37j3Zf"
      },
      "source": [
        "np.trace(A)"
      ],
      "execution_count": null,
      "outputs": []
    },
    {
      "cell_type": "markdown",
      "metadata": {
        "id": "dUeQKrYMj3Zg"
      },
      "source": [
        "The trace operator has a number of useful properties that come in handy while rearranging linear algebra equations, e.g.:\n",
        "\n",
        "* Tr($A$) = Tr($A^T$)\n",
        "* Assuming the matrix shapes line up: Tr($ABC$) = Tr($CAB$) = Tr($BCA$)"
      ]
    },
    {
      "cell_type": "markdown",
      "metadata": {
        "id": "kuKYTjskj3Zg"
      },
      "source": [
        "In particular, the trace operator can provide a convenient way to calculate a matrix's Frobenius norm: $$||A||_F = \\sqrt{\\mathrm{Tr}(AA^\\mathrm{T})}$$"
      ]
    },
    {
      "cell_type": "markdown",
      "metadata": {
        "id": "JcqTZnimj3Zg"
      },
      "source": [
        "**Exercises**\n",
        "\n",
        "With the matrix `A_p` provided below:\n",
        "\n",
        "1. Use the PyTorch trace method to calculate the trace of `A_p`.\n",
        "2. Use the PyTorch Frobenius norm method and the trace method to demonstrate that $||A||_F = \\sqrt{\\mathrm{Tr}(AA^\\mathrm{T})}$"
      ]
    },
    {
      "cell_type": "code",
      "metadata": {
        "id": "rQhYWOFvj3Zg"
      },
      "source": [
        "A_p"
      ],
      "execution_count": null,
      "outputs": []
    },
    {
      "cell_type": "markdown",
      "metadata": {
        "id": "QXuZgAUgj3Zh"
      },
      "source": [
        "**Return to slides here.**"
      ]
    },
    {
      "cell_type": "markdown",
      "metadata": {
        "id": "1rQOXPyaj3Zh"
      },
      "source": [
        "### Principal Component Analysis"
      ]
    },
    {
      "cell_type": "markdown",
      "metadata": {
        "id": "X3_Etgo4j3Zh"
      },
      "source": [
        "This PCA example code is adapted from [here](https://jupyter.brynmawr.edu/services/public/dblank/CS371%20Cognitive%20Science/2016-Fall/PCA.ipynb)."
      ]
    },
    {
      "cell_type": "code",
      "metadata": {
        "id": "ubl3WdRWj3Zh"
      },
      "source": [
        "from sklearn import datasets\n",
        "iris = datasets.load_iris()"
      ],
      "execution_count": null,
      "outputs": []
    },
    {
      "cell_type": "code",
      "metadata": {
        "id": "ZE2yvfEbj3Zi"
      },
      "source": [
        "iris.data.shape"
      ],
      "execution_count": null,
      "outputs": []
    },
    {
      "cell_type": "code",
      "metadata": {
        "id": "fa9fcMl2j3Zi"
      },
      "source": [
        "iris.get(\"feature_names\")"
      ],
      "execution_count": null,
      "outputs": []
    },
    {
      "cell_type": "code",
      "metadata": {
        "id": "8O9xwrOLj3Zj"
      },
      "source": [
        "iris.data[0:6,:]"
      ],
      "execution_count": null,
      "outputs": []
    },
    {
      "cell_type": "code",
      "metadata": {
        "id": "YoodmvRsj3Zj"
      },
      "source": [
        "from sklearn.decomposition import PCA"
      ],
      "execution_count": null,
      "outputs": []
    },
    {
      "cell_type": "code",
      "metadata": {
        "id": "PcJwICbtj3Zk"
      },
      "source": [
        "pca = PCA(n_components=2)"
      ],
      "execution_count": null,
      "outputs": []
    },
    {
      "cell_type": "code",
      "metadata": {
        "id": "bNb6txoIj3Zk"
      },
      "source": [
        "X = pca.fit_transform(iris.data)"
      ],
      "execution_count": null,
      "outputs": []
    },
    {
      "cell_type": "code",
      "metadata": {
        "id": "plS7skQGj3Zl"
      },
      "source": [
        "X.shape"
      ],
      "execution_count": null,
      "outputs": []
    },
    {
      "cell_type": "code",
      "metadata": {
        "id": "wC_j-7Xyj3Zl"
      },
      "source": [
        "X[0:6,:]"
      ],
      "execution_count": null,
      "outputs": []
    },
    {
      "cell_type": "code",
      "metadata": {
        "id": "O_aNxFn5j3Zm"
      },
      "source": [
        "_ = plt.scatter(X[:, 0], X[:, 1])"
      ],
      "execution_count": null,
      "outputs": []
    },
    {
      "cell_type": "code",
      "metadata": {
        "id": "bTck5c93j3Zm"
      },
      "source": [
        "iris.target.shape"
      ],
      "execution_count": null,
      "outputs": []
    },
    {
      "cell_type": "code",
      "metadata": {
        "id": "IzGhB6NTj3Zn"
      },
      "source": [
        "iris.target[0:6]"
      ],
      "execution_count": null,
      "outputs": []
    },
    {
      "cell_type": "code",
      "metadata": {
        "id": "DQ8oRWsWj3Zn"
      },
      "source": [
        "unique_elements, counts_elements = np.unique(iris.target, return_counts=True)\n",
        "np.asarray((unique_elements, counts_elements))"
      ],
      "execution_count": null,
      "outputs": []
    },
    {
      "cell_type": "code",
      "metadata": {
        "id": "VAIoVTYWj3Zo"
      },
      "source": [
        "list(iris.target_names)"
      ],
      "execution_count": null,
      "outputs": []
    },
    {
      "cell_type": "code",
      "metadata": {
        "id": "JlZX_2vQj3Zo"
      },
      "source": [
        "_ = plt.scatter(X[:, 0], X[:, 1], c=iris.target)"
      ],
      "execution_count": null,
      "outputs": []
    },
    {
      "cell_type": "markdown",
      "metadata": {
        "id": "w1Y8YA2oj3Zp"
      },
      "source": [
        "**Return to slides here.**"
      ]
    }
  ]
}